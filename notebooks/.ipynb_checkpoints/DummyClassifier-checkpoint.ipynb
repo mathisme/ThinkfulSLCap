{
 "cells": [
  {
   "cell_type": "code",
   "execution_count": 1,
   "id": "7240aec7",
   "metadata": {},
   "outputs": [],
   "source": [
    "import numpy as np\n",
    "import pandas as pd\n",
    "from sklearn.model_selection import train_test_split\n",
    "from sklearn.dummy import DummyClassifier\n",
    "from sklearn.metrics import f1_score"
   ]
  },
  {
   "cell_type": "code",
   "execution_count": 2,
   "id": "54c0abfe",
   "metadata": {},
   "outputs": [],
   "source": [
    "df = pd.read_csv('../data/loan_data.csv')"
   ]
  },
  {
   "cell_type": "markdown",
   "id": "6caae14a",
   "metadata": {},
   "source": [
    "# Preparing the data"
   ]
  },
  {
   "cell_type": "code",
   "execution_count": 3,
   "id": "b30939fb",
   "metadata": {},
   "outputs": [],
   "source": [
    "df.columns = [x.replace('.','_') for x in df.columns]"
   ]
  },
  {
   "cell_type": "code",
   "execution_count": 4,
   "id": "ad4f6253",
   "metadata": {},
   "outputs": [],
   "source": [
    "df['fully_paid'] = 1 - df.not_fully_paid\n",
    "df.drop('not_fully_paid',axis=1,inplace=True)"
   ]
  },
  {
   "cell_type": "code",
   "execution_count": 5,
   "id": "d98aba03",
   "metadata": {},
   "outputs": [],
   "source": [
    "df = pd.get_dummies(df)"
   ]
  },
  {
   "cell_type": "code",
   "execution_count": 6,
   "id": "ec70b1a9",
   "metadata": {},
   "outputs": [],
   "source": [
    "X = df.drop('fully_paid',axis=1)\n",
    "y = df.fully_paid"
   ]
  },
  {
   "cell_type": "code",
   "execution_count": 7,
   "id": "2e90ebda",
   "metadata": {},
   "outputs": [],
   "source": [
    "X_train, X_test, y_train, y_test = train_test_split(X, y, random_state=675, test_size=0.2)"
   ]
  },
  {
   "cell_type": "markdown",
   "id": "6ee14bfa",
   "metadata": {},
   "source": [
    "# Completing the models\n",
    "\n",
    "I'm not sure what parameter to use so I will try with different parameters.  Whichever model has the highest f1 score on the test set, this is the baseline to compare other models to."
   ]
  },
  {
   "cell_type": "code",
   "execution_count": 8,
   "id": "1a4815e2",
   "metadata": {},
   "outputs": [
    {
     "name": "stdout",
     "output_type": "stream",
     "text": [
      "f1 score for stratified :  0.8395672333848532\n",
      "f1 score for most_frequent :  0.9153693744692896\n",
      "f1 score for uniform :  0.6295436968290796\n",
      "f1 score for constant :  0.0\n"
     ]
    }
   ],
   "source": [
    "f1s = [0]*4\n",
    "dummy_names = ['stratified','most_frequent','uniform','constant']\n",
    "dummies = [DummyClassifier(strategy='stratified'), \n",
    "           DummyClassifier(strategy='most_frequent'),\n",
    "           DummyClassifier(strategy='uniform'), \n",
    "           DummyClassifier(strategy='constant',constant=0)]\n",
    "for i in range(4):\n",
    "    dummies[i].fit(X_train,y_train)\n",
    "    preds = dummies[i].predict(X_test)\n",
    "    f1s[i] = f1_score(preds, y_test)\n",
    "    print(\"f1 score for\",dummy_names[i],\": \",f1s[i])"
   ]
  },
  {
   "cell_type": "markdown",
   "id": "a29d05c5",
   "metadata": {},
   "source": [
    "Most frequent has the highest f1 score of 0.91"
   ]
  }
 ],
 "metadata": {
  "kernelspec": {
   "display_name": "Python 3",
   "language": "python",
   "name": "python3"
  },
  "language_info": {
   "codemirror_mode": {
    "name": "ipython",
    "version": 3
   },
   "file_extension": ".py",
   "mimetype": "text/x-python",
   "name": "python",
   "nbconvert_exporter": "python",
   "pygments_lexer": "ipython3",
   "version": "3.9.5"
  }
 },
 "nbformat": 4,
 "nbformat_minor": 5
}
