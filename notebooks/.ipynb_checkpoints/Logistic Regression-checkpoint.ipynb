{
 "cells": [
  {
   "cell_type": "code",
   "execution_count": null,
   "id": "80dc778a",
   "metadata": {},
   "outputs": [],
   "source": [
    "# what I want to do is play with outliers, and also move threshold of original model"
   ]
  },
  {
   "cell_type": "code",
   "execution_count": 73,
   "id": "d8032877",
   "metadata": {},
   "outputs": [],
   "source": [
    "import numpy as np\n",
    "import pandas as pd\n",
    "import matplotlib.pyplot as plt\n",
    "from sklearn.linear_model import LogisticRegression\n",
    "from sklearn.model_selection import train_test_split, cross_validate\n",
    "from sklearn.pipeline import Pipeline\n",
    "from sklearn.preprocessing import StandardScaler, OneHotEncoder\n",
    "from sklearn.compose import ColumnTransformer\n",
    "from sklearn.metrics import (precision_recall_fscore_support, plot_confusion_matrix, plot_precision_recall_curve,\n",
    "                             confusion_matrix,precision_recall_curve, ConfusionMatrixDisplay, PrecisionRecallDisplay)\n",
    "from scipy.stats.mstats import winsorize\n"
   ]
  },
  {
   "cell_type": "code",
   "execution_count": 2,
   "id": "ed2008b5",
   "metadata": {},
   "outputs": [],
   "source": [
    "df = pd.read_csv('../data/loan_data.csv')"
   ]
  },
  {
   "cell_type": "code",
   "execution_count": 3,
   "id": "006b12a0",
   "metadata": {},
   "outputs": [
    {
     "data": {
      "text/plain": [
       "Index(['credit_policy', 'purpose', 'int_rate', 'installment', 'log_annual_inc',\n",
       "       'dti', 'fico', 'days_with_cr_line', 'revol_bal', 'revol_util',\n",
       "       'inq_last_6mths', 'delinq_2yrs', 'pub_rec', 'not_fully_paid'],\n",
       "      dtype='object')"
      ]
     },
     "execution_count": 3,
     "metadata": {},
     "output_type": "execute_result"
    }
   ],
   "source": [
    "df.columns = [x.replace('.','_') for x in df.columns]\n",
    "df.columns"
   ]
  },
  {
   "cell_type": "code",
   "execution_count": 4,
   "id": "97371f4c",
   "metadata": {},
   "outputs": [],
   "source": [
    "df['fully_paid'] = 1 - df.not_fully_paid\n",
    "df.drop('not_fully_paid', axis=1, inplace=True)"
   ]
  },
  {
   "cell_type": "code",
   "execution_count": 5,
   "id": "e3470010",
   "metadata": {},
   "outputs": [],
   "source": [
    "def get_preds(classifier, X_test, y_test, threshold):\n",
    "    y_preds = classifier.predict_proba(X_test)\n",
    "    y_preds = y_preds[:,1]\n",
    "    y_preds = 1 * (y_preds > threshold)\n",
    "    return y_preds    "
   ]
  },
  {
   "cell_type": "code",
   "execution_count": 6,
   "id": "05c880cc",
   "metadata": {},
   "outputs": [],
   "source": [
    "def find_threshold(estimator, X_train, y_train, scoring='f1'):\n",
    "    best_thresholds=[0]*5\n",
    "    scores = cross_validate(estimator, X_train, y_train, scoring = scoring, return_estimator=True)\n",
    "    for i in range(5):\n",
    "        estimator_i = scores['estimator'][i]\n",
    "        yhat = estimator_i.predict_proba(X_train)\n",
    "        yhat = yhat[:,1]\n",
    "        precision, recall, thresholds = precision_recall_curve(y_train,yhat)\n",
    "        fscores = 2*precision*recall/(precision+recall)\n",
    "        ix = np.argmax(fscores)\n",
    "        best_thresholds[i] = thresholds[ix]\n",
    "    return np.mean(best_thresholds)"
   ]
  },
  {
   "cell_type": "code",
   "execution_count": 7,
   "id": "39100a61",
   "metadata": {},
   "outputs": [],
   "source": [
    "def print_accuracy_results(y_true, y_preds):\n",
    "    correct_classification = 1 - np.absolute(y_true - y_preds)\n",
    "    scores_df = pd.DataFrame({'y_values': y_true, 'correct_classification': correct_classification})\n",
    "    zeros = scores_df[scores_df.y_values == 0]\n",
    "    ones = scores_df[scores_df.y_values == 1]\n",
    "    print(\"The percentage of fully_paid predicted correctly: \",100*ones.correct_classification.sum()/ones.shape[0])\n",
    "    print(\"The percentage of not fully_paid predicted correctly: \",100*zeros.correct_classification.sum()/zeros.shape[0])"
   ]
  },
  {
   "cell_type": "code",
   "execution_count": 8,
   "id": "075be3af",
   "metadata": {},
   "outputs": [],
   "source": [
    "def print_scores(classifier, X_test, y_test, threshold=None, beta=1.0):\n",
    "    if threshold is None:\n",
    "        y_preds = classifier.predict(X_test)\n",
    "    else:\n",
    "        y_preds = get_preds(classifier, X_test, y_test, threshold)\n",
    "        \n",
    "    scores = precision_recall_fscore_support(y_preds, y_test, beta=beta, average='binary')\n",
    "    print(\"precision score: \",scores[0])\n",
    "    print(\"recall score: \", scores[1])\n",
    "    print(\"f1 score: \", scores[2])\n",
    "    print('-'*50)\n",
    "    print_accuracy_results(y_test, y_preds)"
   ]
  },
  {
   "cell_type": "markdown",
   "id": "6056bfed",
   "metadata": {},
   "source": [
    "# Splitting the data"
   ]
  },
  {
   "cell_type": "code",
   "execution_count": 9,
   "id": "5e5d06ec",
   "metadata": {},
   "outputs": [],
   "source": [
    "X = df.drop('fully_paid', axis = 1)\n",
    "y = df.fully_paid\n",
    "X_train, X_test, y_train, y_test = train_test_split(X, y, random_state=675, test_size=0.2)"
   ]
  },
  {
   "cell_type": "markdown",
   "id": "80a9a010",
   "metadata": {},
   "source": [
    "# Base Model"
   ]
  },
  {
   "cell_type": "code",
   "execution_count": 62,
   "id": "caacdcf6",
   "metadata": {},
   "outputs": [],
   "source": [
    "numeric_features = X.select_dtypes(exclude='object').columns\n",
    "cat_features = df.select_dtypes('object').columns\n",
    "\n",
    "numeric_transformer = Pipeline(steps=[('scalar',StandardScaler())])\n",
    "cat_transformer = Pipeline(steps=[('one_hot',OneHotEncoder(drop = 'first', handle_unknown='error'))])\n",
    "\n",
    "preprocessor = ColumnTransformer(transformers=[\n",
    "    ('num',numeric_transformer,numeric_features),\n",
    "    ('cat',cat_transformer,cat_features)])\n",
    "\n",
    "lr1 = Pipeline(steps =[\n",
    "    ('preprocessor',preprocessor),\n",
    "    ('lr_classifier', LogisticRegression())])"
   ]
  },
  {
   "cell_type": "code",
   "execution_count": 63,
   "id": "0c297615",
   "metadata": {},
   "outputs": [
    {
     "data": {
      "text/plain": [
       "Pipeline(steps=[('preprocessor',\n",
       "                 ColumnTransformer(transformers=[('num',\n",
       "                                                  Pipeline(steps=[('scalar',\n",
       "                                                                   StandardScaler())]),\n",
       "                                                  Index(['credit_policy', 'int_rate', 'installment', 'log_annual_inc', 'dti',\n",
       "       'fico', 'days_with_cr_line', 'revol_bal', 'revol_util',\n",
       "       'inq_last_6mths', 'delinq_2yrs', 'pub_rec'],\n",
       "      dtype='object')),\n",
       "                                                 ('cat',\n",
       "                                                  Pipeline(steps=[('one_hot',\n",
       "                                                                   OneHotEncoder(drop='first'))]),\n",
       "                                                  Index(['purpose'], dtype='object'))])),\n",
       "                ('lr_classifier', LogisticRegression())])"
      ]
     },
     "execution_count": 63,
     "metadata": {},
     "output_type": "execute_result"
    }
   ],
   "source": [
    "lr1.fit(X_train,y_train)"
   ]
  },
  {
   "cell_type": "code",
   "execution_count": 64,
   "id": "0d8486c1",
   "metadata": {},
   "outputs": [
    {
     "name": "stdout",
     "output_type": "stream",
     "text": [
      "precision score:  0.9907235621521335\n",
      "recall score:  0.8476190476190476\n",
      "f1 score:  0.913601368691189\n",
      "--------------------------------------------------\n",
      "The percentage of fully_paid predicted correctly:  99.07235621521336\n",
      "The percentage of not fully_paid predicted correctly:  3.678929765886288\n"
     ]
    }
   ],
   "source": [
    "print_scores(lr1, X_test, y_test)"
   ]
  },
  {
   "cell_type": "code",
   "execution_count": 65,
   "id": "9cafd62e",
   "metadata": {},
   "outputs": [
    {
     "data": {
      "text/plain": [
       "<sklearn.metrics._plot.confusion_matrix.ConfusionMatrixDisplay at 0x246889165b0>"
      ]
     },
     "execution_count": 65,
     "metadata": {},
     "output_type": "execute_result"
    },
    {
     "data": {
      "image/png": "[encoded data removed]",
      "text/plain": [
       "<Figure size 432x288 with 2 Axes>"
      ]
     },
     "metadata": {
      "needs_background": "light"
     },
     "output_type": "display_data"
    }
   ],
   "source": [
    "plot_confusion_matrix(lr1, X_test, y_test)"
   ]
  },
  {
   "cell_type": "code",
   "execution_count": 40,
   "id": "c1ff5044",
   "metadata": {},
   "outputs": [
    {
     "data": {
      "text/plain": [
       "<sklearn.metrics._plot.precision_recall_curve.PrecisionRecallDisplay at 0x24688670670>"
      ]
     },
     "execution_count": 40,
     "metadata": {},
     "output_type": "execute_result"
    },
    {
     "data": {
      "image/png": "[encoded data removed]",
      "text/plain": [
       "<Figure size 432x288 with 1 Axes>"
      ]
     },
     "metadata": {
      "needs_background": "light"
     },
     "output_type": "display_data"
    }
   ],
   "source": [
    "plot_precision_recall_curve(lr1, X_test, y_test)"
   ]
  },
  {
   "cell_type": "markdown",
   "id": "e0e60231",
   "metadata": {},
   "source": [
    "# Logistic Regression Models with selected features\n",
    "\n",
    "From the exploratory data analysis, I feel the following four features may effect whether a loan is fully paid."
   ]
  },
  {
   "cell_type": "code",
   "execution_count": 66,
   "id": "dd443efb",
   "metadata": {},
   "outputs": [],
   "source": [
    "X2 = df[['credit_policy','purpose','int_rate','revol_util']]\n",
    "X2_train, X2_test = train_test_split(X2, random_state=675, test_size=0.2)"
   ]
  },
  {
   "cell_type": "code",
   "execution_count": 67,
   "id": "01852047",
   "metadata": {},
   "outputs": [],
   "source": [
    "numeric_features = X2.select_dtypes(exclude='object').columns\n",
    "cat_features = df.select_dtypes('object').columns\n",
    "\n",
    "numeric_transformer = Pipeline(steps=[('scalar',StandardScaler())])\n",
    "cat_transformer = Pipeline(steps=[('one_hot',OneHotEncoder(drop = 'first', handle_unknown='error'))])\n",
    "\n",
    "preprocessor = ColumnTransformer(transformers=[\n",
    "    ('num',numeric_transformer,numeric_features),\n",
    "    ('cat',cat_transformer,cat_features)])\n",
    "\n",
    "lr2 = Pipeline(steps =[\n",
    "    ('preprocessor',preprocessor),\n",
    "    ('lr_classifier', LogisticRegression(solver='saga',penalty='none'))])"
   ]
  },
  {
   "cell_type": "code",
   "execution_count": 68,
   "id": "1c4f0d8a",
   "metadata": {},
   "outputs": [
    {
     "data": {
      "text/plain": [
       "Pipeline(steps=[('preprocessor',\n",
       "                 ColumnTransformer(transformers=[('num',\n",
       "                                                  Pipeline(steps=[('scalar',\n",
       "                                                                   StandardScaler())]),\n",
       "                                                  Index(['credit_policy', 'int_rate', 'revol_util'], dtype='object')),\n",
       "                                                 ('cat',\n",
       "                                                  Pipeline(steps=[('one_hot',\n",
       "                                                                   OneHotEncoder(drop='first'))]),\n",
       "                                                  Index(['purpose'], dtype='object'))])),\n",
       "                ('lr_classifier',\n",
       "                 LogisticRegression(penalty='none', solver='saga'))])"
      ]
     },
     "execution_count": 68,
     "metadata": {},
     "output_type": "execute_result"
    }
   ],
   "source": [
    "lr2.fit(X2_train,y_train)"
   ]
  },
  {
   "cell_type": "code",
   "execution_count": 69,
   "id": "00502176",
   "metadata": {},
   "outputs": [
    {
     "name": "stdout",
     "output_type": "stream",
     "text": [
      "precision score:  0.9987631416202845\n",
      "recall score:  0.8455497382198953\n",
      "f1 score:  0.9157924581797562\n",
      "--------------------------------------------------\n",
      "The percentage of fully_paid predicted correctly:  99.87631416202845\n",
      "The percentage of not fully_paid predicted correctly:  1.3377926421404682\n"
     ]
    }
   ],
   "source": [
    "print_scores(lr2, X2_test, y_test)"
   ]
  },
  {
   "cell_type": "markdown",
   "id": "851850b9",
   "metadata": {},
   "source": [
    "Choosing parameters only increased the f1 by a very small amount.  The accuracy decreased.  I want to try regulariztion to avoid overfitting instead of manually selecting features."
   ]
  },
  {
   "cell_type": "code",
   "execution_count": 70,
   "id": "b651b83c",
   "metadata": {},
   "outputs": [
    {
     "data": {
      "text/plain": [
       "<sklearn.metrics._plot.confusion_matrix.ConfusionMatrixDisplay at 0x2468874bdc0>"
      ]
     },
     "execution_count": 70,
     "metadata": {},
     "output_type": "execute_result"
    },
    {
     "data": {
      "image/png": "[encoded data removed]",
      "text/plain": [
       "<Figure size 432x288 with 2 Axes>"
      ]
     },
     "metadata": {
      "needs_background": "light"
     },
     "output_type": "display_data"
    }
   ],
   "source": [
    "plot_confusion_matrix(lr2 ,X2_test, y_test)"
   ]
  },
  {
   "cell_type": "code",
   "execution_count": 71,
   "id": "0744c09b",
   "metadata": {},
   "outputs": [
    {
     "data": {
      "text/plain": [
       "<sklearn.metrics._plot.precision_recall_curve.PrecisionRecallDisplay at 0x24688ba7b50>"
      ]
     },
     "execution_count": 71,
     "metadata": {},
     "output_type": "execute_result"
    },
    {
     "data": {
      "image/png": "[encoded data removed]",
      "text/plain": [
       "<Figure size 432x288 with 1 Axes>"
      ]
     },
     "metadata": {
      "needs_background": "light"
     },
     "output_type": "display_data"
    }
   ],
   "source": [
    "plot_precision_recall_curve(lr2 ,X2_test, y_test)"
   ]
  },
  {
   "cell_type": "markdown",
   "id": "2e98dd8f",
   "metadata": {},
   "source": [
    "# Using balanced class weights and regularization"
   ]
  },
  {
   "cell_type": "code",
   "execution_count": 47,
   "id": "f1e46aab",
   "metadata": {},
   "outputs": [],
   "source": [
    "lr3 = Pipeline(steps =[\n",
    "    ('preprocessor',preprocessor),\n",
    "    ('lr_classifier', LogisticRegression(solver='saga', class_weight='balanced'))])"
   ]
  },
  {
   "cell_type": "code",
   "execution_count": 48,
   "id": "1d2857f2",
   "metadata": {},
   "outputs": [
    {
     "data": {
      "text/plain": [
       "Pipeline(steps=[('preprocessor',\n",
       "                 ColumnTransformer(transformers=[('num',\n",
       "                                                  Pipeline(steps=[('scalar',\n",
       "                                                                   StandardScaler())]),\n",
       "                                                  Index(['credit_policy', 'int_rate', 'revol_util'], dtype='object')),\n",
       "                                                 ('cat',\n",
       "                                                  Pipeline(steps=[('one_hot',\n",
       "                                                                   OneHotEncoder(drop='first'))]),\n",
       "                                                  Index(['purpose'], dtype='object'))])),\n",
       "                ('lr_classifier',\n",
       "                 LogisticRegression(class_weight='balanced', solver='saga'))])"
      ]
     },
     "execution_count": 48,
     "metadata": {},
     "output_type": "execute_result"
    }
   ],
   "source": [
    "lr3.fit(X_train,y_train)"
   ]
  },
  {
   "cell_type": "code",
   "execution_count": 49,
   "id": "a3db03fd",
   "metadata": {},
   "outputs": [
    {
     "name": "stdout",
     "output_type": "stream",
     "text": [
      "precision score:  0.6648113790970934\n",
      "recall score:  0.8876961189099918\n",
      "f1 score:  0.7602545968882604\n",
      "--------------------------------------------------\n",
      "The percentage of fully_paid predicted correctly:  66.48113790970933\n",
      "The percentage of not fully_paid predicted correctly:  54.51505016722408\n"
     ]
    }
   ],
   "source": [
    "print_scores(lr3, X_test, y_test)"
   ]
  },
  {
   "cell_type": "code",
   "execution_count": 50,
   "id": "ac20f939",
   "metadata": {},
   "outputs": [
    {
     "data": {
      "text/plain": [
       "<sklearn.metrics._plot.confusion_matrix.ConfusionMatrixDisplay at 0x246886e1fd0>"
      ]
     },
     "execution_count": 50,
     "metadata": {},
     "output_type": "execute_result"
    },
    {
     "data": {
      "image/png": "[encoded data removed]",
      "text/plain": [
       "<Figure size 432x288 with 2 Axes>"
      ]
     },
     "metadata": {
      "needs_background": "light"
     },
     "output_type": "display_data"
    }
   ],
   "source": [
    "plot_confusion_matrix(lr3 ,X_test, y_test)"
   ]
  },
  {
   "cell_type": "code",
   "execution_count": 51,
   "id": "2d335b57",
   "metadata": {},
   "outputs": [
    {
     "data": {
      "text/plain": [
       "<sklearn.metrics._plot.precision_recall_curve.PrecisionRecallDisplay at 0x246888941c0>"
      ]
     },
     "execution_count": 51,
     "metadata": {},
     "output_type": "execute_result"
    },
    {
     "data": {
      "image/png": "[encoded data removed]",
      "text/plain": [
       "<Figure size 432x288 with 1 Axes>"
      ]
     },
     "metadata": {
      "needs_background": "light"
     },
     "output_type": "display_data"
    }
   ],
   "source": [
    "plot_precision_recall_curve(lr3 ,X_test, y_test)"
   ]
  },
  {
   "cell_type": "markdown",
   "id": "c0189721",
   "metadata": {},
   "source": [
    "With balanced class weights, more true negatives are predicted but f1 score drops."
   ]
  },
  {
   "cell_type": "markdown",
   "id": "da5c6ae9",
   "metadata": {},
   "source": [
    "# Handling outliers"
   ]
  },
  {
   "cell_type": "code",
   "execution_count": 74,
   "id": "2756e093",
   "metadata": {},
   "outputs": [],
   "source": [
    "X3_train = X_train.copy()\n",
    "X3_train['int_rate'] = X_train['int_rate'].apply(lambda x: min([x,0.2]))\n",
    "X3_train['log_annual_inc'] = winsorize(X3_train.log_annual_inc, limits=(0.1,0.1))\n",
    "X3_train['inq_last_6mths'] = X_train['inq_last_6mths'].apply(lambda x : min([x,15]))\n",
    "X3_train['pub_rec'] = X_train['pub_rec'].apply(lambda x : min([x,4]))"
   ]
  },
  {
   "cell_type": "code",
   "execution_count": 75,
   "id": "419980d0",
   "metadata": {},
   "outputs": [
    {
     "data": {
      "text/plain": [
       "Pipeline(steps=[('preprocessor',\n",
       "                 ColumnTransformer(transformers=[('num',\n",
       "                                                  Pipeline(steps=[('scalar',\n",
       "                                                                   StandardScaler())]),\n",
       "                                                  Index(['credit_policy', 'int_rate', 'installment', 'log_annual_inc', 'dti',\n",
       "       'fico', 'days_with_cr_line', 'revol_bal', 'revol_util',\n",
       "       'inq_last_6mths', 'delinq_2yrs', 'pub_rec'],\n",
       "      dtype='object')),\n",
       "                                                 ('cat',\n",
       "                                                  Pipeline(steps=[('one_hot',\n",
       "                                                                   OneHotEncoder(drop='first'))]),\n",
       "                                                  Index(['purpose'], dtype='object'))])),\n",
       "                ('lr_classifier', LogisticRegression())])"
      ]
     },
     "execution_count": 75,
     "metadata": {},
     "output_type": "execute_result"
    }
   ],
   "source": [
    "lr1.fit(X3_train,y_train)"
   ]
  },
  {
   "cell_type": "code",
   "execution_count": 76,
   "id": "d7f59b2a",
   "metadata": {},
   "outputs": [
    {
     "name": "stdout",
     "output_type": "stream",
     "text": [
      "precision score:  0.9901051329622759\n",
      "recall score:  0.8502389803505045\n",
      "f1 score:  0.9148571428571428\n",
      "--------------------------------------------------\n",
      "The percentage of fully_paid predicted correctly:  99.01051329622759\n",
      "The percentage of not fully_paid predicted correctly:  5.68561872909699\n"
     ]
    }
   ],
   "source": [
    "print_scores(lr1, X_test, y_test)"
   ]
  },
  {
   "cell_type": "markdown",
   "id": "4be41327",
   "metadata": {},
   "source": [
    "The model improved only by a slight amount"
   ]
  },
  {
   "cell_type": "code",
   "execution_count": 77,
   "id": "83ef0fc7",
   "metadata": {},
   "outputs": [
    {
     "data": {
      "text/plain": [
       "<sklearn.metrics._plot.confusion_matrix.ConfusionMatrixDisplay at 0x24688c80460>"
      ]
     },
     "execution_count": 77,
     "metadata": {},
     "output_type": "execute_result"
    },
    {
     "data": {
      "image/png": "[encoded data removed]",
      "text/plain": [
       "<Figure size 432x288 with 2 Axes>"
      ]
     },
     "metadata": {
      "needs_background": "light"
     },
     "output_type": "display_data"
    }
   ],
   "source": [
    "plot_confusion_matrix(lr1, X_test, y_test)"
   ]
  },
  {
   "cell_type": "markdown",
   "id": "c3fe0684",
   "metadata": {},
   "source": [
    "now looking at how handling outliers effects lr3"
   ]
  },
  {
   "cell_type": "code",
   "execution_count": 78,
   "id": "d0325169",
   "metadata": {},
   "outputs": [
    {
     "data": {
      "text/plain": [
       "Pipeline(steps=[('preprocessor',\n",
       "                 ColumnTransformer(transformers=[('num',\n",
       "                                                  Pipeline(steps=[('scalar',\n",
       "                                                                   StandardScaler())]),\n",
       "                                                  Index(['credit_policy', 'int_rate', 'revol_util'], dtype='object')),\n",
       "                                                 ('cat',\n",
       "                                                  Pipeline(steps=[('one_hot',\n",
       "                                                                   OneHotEncoder(drop='first'))]),\n",
       "                                                  Index(['purpose'], dtype='object'))])),\n",
       "                ('lr_classifier',\n",
       "                 LogisticRegression(class_weight='balanced', solver='saga'))])"
      ]
     },
     "execution_count": 78,
     "metadata": {},
     "output_type": "execute_result"
    }
   ],
   "source": [
    "lr3.fit(X3_train,y_train)"
   ]
  },
  {
   "cell_type": "code",
   "execution_count": 79,
   "id": "8e88b303",
   "metadata": {},
   "outputs": [
    {
     "name": "stdout",
     "output_type": "stream",
     "text": [
      "precision score:  0.6641929499072357\n",
      "recall score:  0.8876033057851239\n",
      "f1 score:  0.7598160594269544\n",
      "--------------------------------------------------\n",
      "The percentage of fully_paid predicted correctly:  66.41929499072356\n",
      "The percentage of not fully_paid predicted correctly:  54.51505016722408\n"
     ]
    }
   ],
   "source": [
    "print_scores(lr3, X_test, y_test)"
   ]
  },
  {
   "cell_type": "markdown",
   "id": "c1f985c1",
   "metadata": {},
   "source": [
    "There was no significant difference"
   ]
  },
  {
   "cell_type": "markdown",
   "id": "94768cf1",
   "metadata": {},
   "source": [
    "# Moving the threshold"
   ]
  },
  {
   "cell_type": "code",
   "execution_count": 82,
   "id": "73ed6a2e",
   "metadata": {},
   "outputs": [
    {
     "data": {
      "text/plain": [
       "0.37599409206277734"
      ]
     },
     "execution_count": 82,
     "metadata": {},
     "output_type": "execute_result"
    }
   ],
   "source": [
    "find_threshold(lr1, X3_train, y_train)"
   ]
  },
  {
   "cell_type": "markdown",
   "id": "79d2ba78",
   "metadata": {},
   "source": [
    "The find threshold function reveals a low threshold, which will end up predicting 1 for all observations.  Choosing a random threshold of 0.75.\n",
    "\n",
    "* Remember, this was trained on the X3 training set with outliers handled."
   ]
  },
  {
   "cell_type": "code",
   "execution_count": 83,
   "id": "70817872",
   "metadata": {},
   "outputs": [
    {
     "name": "stdout",
     "output_type": "stream",
     "text": [
      "precision score:  0.8614718614718615\n",
      "recall score:  0.8652173913043478\n",
      "f1 score:  0.8633405639913232\n",
      "--------------------------------------------------\n",
      "The percentage of fully_paid predicted correctly:  86.14718614718615\n",
      "The percentage of not fully_paid predicted correctly:  27.4247491638796\n"
     ]
    }
   ],
   "source": [
    "print_scores(lr1, X_test, y_test, threshold=0.75)"
   ]
  },
  {
   "cell_type": "code",
   "execution_count": 85,
   "id": "1b0ae3d8",
   "metadata": {},
   "outputs": [
    {
     "data": {
      "text/plain": [
       "<sklearn.metrics._plot.confusion_matrix.ConfusionMatrixDisplay at 0x24688d703a0>"
      ]
     },
     "execution_count": 85,
     "metadata": {},
     "output_type": "execute_result"
    },
    {
     "data": {
      "image/png": "[encoded data removed]",
      "text/plain": [
       "<Figure size 432x288 with 2 Axes>"
      ]
     },
     "metadata": {
      "needs_background": "light"
     },
     "output_type": "display_data"
    }
   ],
   "source": [
    "y_preds = get_preds(lr1, X_test, y_test, threshold=0.75)\n",
    "lr1_cm = confusion_matrix(y_test, y_preds)\n",
    "cm_disp = ConfusionMatrixDisplay(lr1_cm, display_labels=lr1.classes_)\n",
    "cm_disp.plot()"
   ]
  },
  {
   "cell_type": "code",
   "execution_count": 86,
   "id": "19ca4c0d",
   "metadata": {},
   "outputs": [
    {
     "data": {
      "text/plain": [
       "<sklearn.metrics._plot.precision_recall_curve.PrecisionRecallDisplay at 0x24688d62430>"
      ]
     },
     "execution_count": 86,
     "metadata": {},
     "output_type": "execute_result"
    },
    {
     "data": {
      "image/png": "[encoded data removed]",
      "text/plain": [
       "<Figure size 432x288 with 1 Axes>"
      ]
     },
     "metadata": {
      "needs_background": "light"
     },
     "output_type": "display_data"
    }
   ],
   "source": [
    "precision, recall, _ = precision_recall_curve(y_test, y_preds)\n",
    "pr_disp = PrecisionRecallDisplay(precision=precision, recall=recall)\n",
    "pr_disp.plot()"
   ]
  },
  {
   "cell_type": "code",
   "execution_count": null,
   "id": "9f393fd5",
   "metadata": {},
   "outputs": [],
   "source": []
  }
 ],
 "metadata": {
  "kernelspec": {
   "display_name": "Python 3",
   "language": "python",
   "name": "python3"
  },
  "language_info": {
   "codemirror_mode": {
    "name": "ipython",
    "version": 3
   },
   "file_extension": ".py",
   "mimetype": "text/x-python",
   "name": "python",
   "nbconvert_exporter": "python",
   "pygments_lexer": "ipython3",
   "version": "3.9.5"
  }
 },
 "nbformat": 4,
 "nbformat_minor": 5
}
