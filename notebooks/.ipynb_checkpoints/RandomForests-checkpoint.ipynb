{
 "cells": [
  {
   "cell_type": "code",
   "execution_count": 8,
   "id": "394d14a8",
   "metadata": {},
   "outputs": [],
   "source": [
    "import numpy as np\n",
    "import pandas as pd\n",
    "import matplotlib.pyplot as plt\n",
    "from sklearn.ensemble import RandomForestClassifier\n",
    "from sklearn.model_selection import train_test_split, GridSearchCV\n",
    "from sklearn.pipeline import Pipeline\n",
    "from sklearn.preprocessing import LabelEncoder, OneHotEncoder\n",
    "from sklearn.compose import ColumnTransformer\n",
    "from sklearn.metrics import precision_recall_fscore_support, plot_confusion_matrix, plot_precision_recall_curve\n",
    "\n",
    "# probably also need random under and over sample"
   ]
  },
  {
   "cell_type": "code",
   "execution_count": 2,
   "id": "9cb36d76",
   "metadata": {},
   "outputs": [],
   "source": [
    "df = pd.read_csv('../data/loan_data.csv')"
   ]
  },
  {
   "cell_type": "code",
   "execution_count": 3,
   "id": "8f3c67c3",
   "metadata": {},
   "outputs": [
    {
     "data": {
      "text/plain": [
       "Index(['credit_policy', 'purpose', 'int_rate', 'installment', 'log_annual_inc',\n",
       "       'dti', 'fico', 'days_with_cr_line', 'revol_bal', 'revol_util',\n",
       "       'inq_last_6mths', 'delinq_2yrs', 'pub_rec', 'not_fully_paid'],\n",
       "      dtype='object')"
      ]
     },
     "execution_count": 3,
     "metadata": {},
     "output_type": "execute_result"
    }
   ],
   "source": [
    "df.columns = [x.replace('.','_') for x in df.columns]\n",
    "df.columns"
   ]
  },
  {
   "cell_type": "code",
   "execution_count": 4,
   "id": "73a547c3",
   "metadata": {},
   "outputs": [],
   "source": [
    "df['fully_paid'] = 1 - df.not_fully_paid\n",
    "df.drop('not_fully_paid', axis=1, inplace=True)"
   ]
  },
  {
   "cell_type": "markdown",
   "id": "764e0470",
   "metadata": {},
   "source": [
    "# Splitting the data"
   ]
  },
  {
   "cell_type": "code",
   "execution_count": 5,
   "id": "a0820958",
   "metadata": {},
   "outputs": [],
   "source": [
    "X = df.drop('fully_paid', axis = 1)\n",
    "y = df.fully_paid\n",
    "X_train, X_test, y_train, y_test = train_test_split(X, y, random_state=675, test_size=0.2)"
   ]
  },
  {
   "cell_type": "markdown",
   "id": "affcdc6e",
   "metadata": {},
   "source": [
    "# Base Model"
   ]
  },
  {
   "cell_type": "code",
   "execution_count": 9,
   "id": "00716938",
   "metadata": {},
   "outputs": [],
   "source": [
    "cat_features = df.select_dtypes('object').columns\n",
    "cat_transformer = Pipeline(steps=[('label',OneHotEncoder(drop = 'first', handle_unknown='error'))])\n",
    "preprocessor = ColumnTransformer(transformers=[\n",
    "    ('cat',cat_transformer,cat_features)])\n",
    "\n",
    "rf1 = Pipeline(steps =[\n",
    "    ('preprocessor',preprocessor),\n",
    "    ('rf_classifier', RandomForestClassifier())])"
   ]
  },
  {
   "cell_type": "code",
   "execution_count": 10,
   "id": "177792b9",
   "metadata": {},
   "outputs": [
    {
     "data": {
      "text/plain": [
       "Pipeline(steps=[('preprocessor',\n",
       "                 ColumnTransformer(transformers=[('cat',\n",
       "                                                  Pipeline(steps=[('label',\n",
       "                                                                   OneHotEncoder(drop='first'))]),\n",
       "                                                  Index(['purpose'], dtype='object'))])),\n",
       "                ('rf_classifier', RandomForestClassifier())])"
      ]
     },
     "execution_count": 10,
     "metadata": {},
     "output_type": "execute_result"
    }
   ],
   "source": [
    "rf1.fit(X_train,y_train)"
   ]
  },
  {
   "cell_type": "code",
   "execution_count": 12,
   "id": "0ebcf980",
   "metadata": {},
   "outputs": [
    {
     "name": "stdout",
     "output_type": "stream",
     "text": [
      "precision score:  1.0\n",
      "recall score for:  0.8389454450535109\n",
      "f1 score for:  0.9124201561391059\n"
     ]
    }
   ],
   "source": [
    "training_scores = precision_recall_fscore_support(rf1.predict(X_train), y_train, average='binary')\n",
    "print(\"precision score: \",training_scores[0])\n",
    "print(\"recall score for: \", training_scores[1])\n",
    "print(\"f1 score for: \", training_scores[2])"
   ]
  },
  {
   "cell_type": "code",
   "execution_count": 13,
   "id": "b6a84a17",
   "metadata": {},
   "outputs": [
    {
     "name": "stdout",
     "output_type": "stream",
     "text": [
      "precision score:  1.0\n",
      "recall score for:  0.843945720250522\n",
      "f1 score for:  0.9153693744692896\n"
     ]
    }
   ],
   "source": [
    "y_preds = rf1.predict(X_test)\n",
    "scores = precision_recall_fscore_support(y_preds, y_test, average='binary')\n",
    "print(\"precision score: \",scores[0])\n",
    "print(\"recall score for: \", scores[1])\n",
    "print(\"f1 score for: \", scores[2])"
   ]
  },
  {
   "cell_type": "code",
   "execution_count": 14,
   "id": "8742ffc8",
   "metadata": {},
   "outputs": [
    {
     "data": {
      "text/plain": [
       "<sklearn.metrics._plot.confusion_matrix.ConfusionMatrixDisplay at 0x1cf4bb3d400>"
      ]
     },
     "execution_count": 14,
     "metadata": {},
     "output_type": "execute_result"
    },
    {
     "data": {
      "image/png": "[encoded data removed]",
      "text/plain": [
       "<Figure size 432x288 with 2 Axes>"
      ]
     },
     "metadata": {
      "needs_background": "light"
     },
     "output_type": "display_data"
    }
   ],
   "source": [
    "plot_confusion_matrix(rf1 ,X_test, y_test)"
   ]
  },
  {
   "cell_type": "code",
   "execution_count": 15,
   "id": "40cd748b",
   "metadata": {},
   "outputs": [
    {
     "data": {
      "text/plain": [
       "<sklearn.metrics._plot.precision_recall_curve.PrecisionRecallDisplay at 0x1cf6f449310>"
      ]
     },
     "execution_count": 15,
     "metadata": {},
     "output_type": "execute_result"
    },
    {
     "data": {
      "image/png": "[encoded data removed]",
      "text/plain": [
       "<Figure size 432x288 with 1 Axes>"
      ]
     },
     "metadata": {
      "needs_background": "light"
     },
     "output_type": "display_data"
    }
   ],
   "source": [
    "plot_precision_recall_curve(rf1 ,X_test, y_test)"
   ]
  },
  {
   "cell_type": "markdown",
   "id": "8970a762",
   "metadata": {},
   "source": [
    "This is not good, everything is being predicted as fully_paid.  For the second base model, I will use class_weights = 'balanced'"
   ]
  },
  {
   "cell_type": "code",
   "execution_count": 18,
   "id": "a2235263",
   "metadata": {},
   "outputs": [],
   "source": [
    "rf2 = Pipeline(steps =[\n",
    "    ('preprocessor',preprocessor),\n",
    "    ('rf_classifier', RandomForestClassifier(class_weight='balanced'))])"
   ]
  },
  {
   "cell_type": "code",
   "execution_count": 19,
   "id": "06a95003",
   "metadata": {},
   "outputs": [
    {
     "data": {
      "text/plain": [
       "Pipeline(steps=[('preprocessor',\n",
       "                 ColumnTransformer(transformers=[('cat',\n",
       "                                                  Pipeline(steps=[('label',\n",
       "                                                                   OneHotEncoder(drop='first'))]),\n",
       "                                                  Index(['purpose'], dtype='object'))])),\n",
       "                ('rf_classifier',\n",
       "                 RandomForestClassifier(class_weight='balanced'))])"
      ]
     },
     "execution_count": 19,
     "metadata": {},
     "output_type": "execute_result"
    }
   ],
   "source": [
    "rf2.fit(X_train,y_train)"
   ]
  },
  {
   "cell_type": "code",
   "execution_count": 21,
   "id": "ec817a08",
   "metadata": {},
   "outputs": [
    {
     "name": "stdout",
     "output_type": "stream",
     "text": [
      "precision score:  0.6059427504667082\n",
      "recall score for:  0.8564204045734388\n",
      "f1 score for:  0.7097303206997085\n"
     ]
    }
   ],
   "source": [
    "training_scores = precision_recall_fscore_support(rf2.predict(X_train), y_train, average='binary')\n",
    "print(\"precision score: \",training_scores[0])\n",
    "print(\"recall score for: \", training_scores[1])\n",
    "print(\"f1 score for: \", training_scores[2])"
   ]
  },
  {
   "cell_type": "code",
   "execution_count": 22,
   "id": "b3fca7be",
   "metadata": {},
   "outputs": [
    {
     "name": "stdout",
     "output_type": "stream",
     "text": [
      "precision score:  0.5955473098330241\n",
      "recall score for:  0.8691335740072202\n",
      "f1 score for:  0.706788990825688\n"
     ]
    }
   ],
   "source": [
    "y_preds = rf2.predict(X_test)\n",
    "scores = precision_recall_fscore_support(y_preds, y_test, average='binary')\n",
    "print(\"precision score: \",scores[0])\n",
    "print(\"recall score for: \", scores[1])\n",
    "print(\"f1 score for: \", scores[2])"
   ]
  },
  {
   "cell_type": "code",
   "execution_count": 23,
   "id": "2fb9de10",
   "metadata": {},
   "outputs": [
    {
     "data": {
      "text/plain": [
       "<sklearn.metrics._plot.confusion_matrix.ConfusionMatrixDisplay at 0x1cf6f5250a0>"
      ]
     },
     "execution_count": 23,
     "metadata": {},
     "output_type": "execute_result"
    },
    {
     "data": {
      "image/png": "[encoded data removed]",
      "text/plain": [
       "<Figure size 432x288 with 2 Axes>"
      ]
     },
     "metadata": {
      "needs_background": "light"
     },
     "output_type": "display_data"
    }
   ],
   "source": [
    "plot_confusion_matrix(rf2 ,X_test, y_test)"
   ]
  },
  {
   "cell_type": "code",
   "execution_count": 25,
   "id": "06c387dc",
   "metadata": {},
   "outputs": [
    {
     "data": {
      "text/plain": [
       "<sklearn.metrics._plot.precision_recall_curve.PrecisionRecallDisplay at 0x1cf6f504e50>"
      ]
     },
     "execution_count": 25,
     "metadata": {},
     "output_type": "execute_result"
    },
    {
     "data": {
      "image/png": "[encoded data removed]",
      "text/plain": [
       "<Figure size 432x288 with 1 Axes>"
      ]
     },
     "metadata": {
      "needs_background": "light"
     },
     "output_type": "display_data"
    }
   ],
   "source": [
    "plot_precision_recall_curve(rf2 ,X_test, y_test)"
   ]
  },
  {
   "cell_type": "code",
   "execution_count": null,
   "id": "31e7809e",
   "metadata": {},
   "outputs": [],
   "source": []
  }
 ],
 "metadata": {
  "kernelspec": {
   "display_name": "Python 3",
   "language": "python",
   "name": "python3"
  },
  "language_info": {
   "codemirror_mode": {
    "name": "ipython",
    "version": 3
   },
   "file_extension": ".py",
   "mimetype": "text/x-python",
   "name": "python",
   "nbconvert_exporter": "python",
   "pygments_lexer": "ipython3",
   "version": "3.9.5"
  }
 },
 "nbformat": 4,
 "nbformat_minor": 5
}
