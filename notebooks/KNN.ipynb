{
 "cells": [
  {
   "cell_type": "code",
   "execution_count": 1,
   "id": "478b7403",
   "metadata": {},
   "outputs": [],
   "source": [
    "import numpy as np\n",
    "import pandas as pd\n",
    "from sklearn.neighbors import KNeighborsClassifier\n",
    "from sklearn.model_selection import train_test_split, GridSearchCV\n",
    "from sklearn.pipeline import Pipeline\n",
    "from sklearn.preprocessing import StandardScaler, OneHotEncoder\n",
    "from sklearn.compose import ColumnTransformer\n",
    "from sklearn.metrics import precision_recall_fscore_support, plot_confusion_matrix, plot_precision_recall_curve\n",
    "from imblearn.pipeline import Pipeline as imbPipeline\n",
    "from imblearn.under_sampling import RandomUnderSampler\n",
    "from imblearn.over_sampling import RandomOverSampler"
   ]
  },
  {
   "cell_type": "code",
   "execution_count": 2,
   "id": "80b2191e",
   "metadata": {},
   "outputs": [],
   "source": [
    "df = pd.read_csv('../data/loan_data.csv')"
   ]
  },
  {
   "cell_type": "code",
   "execution_count": 3,
   "id": "5bf63f19",
   "metadata": {},
   "outputs": [
    {
     "data": {
      "text/plain": [
       "Index(['credit_policy', 'purpose', 'int_rate', 'installment', 'log_annual_inc',\n",
       "       'dti', 'fico', 'days_with_cr_line', 'revol_bal', 'revol_util',\n",
       "       'inq_last_6mths', 'delinq_2yrs', 'pub_rec', 'not_fully_paid'],\n",
       "      dtype='object')"
      ]
     },
     "execution_count": 3,
     "metadata": {},
     "output_type": "execute_result"
    }
   ],
   "source": [
    "df.columns = [x.replace('.','_') for x in df.columns]\n",
    "df.columns"
   ]
  },
  {
   "cell_type": "code",
   "execution_count": 4,
   "id": "3a66f9f9",
   "metadata": {},
   "outputs": [],
   "source": [
    "df['fully_paid'] = 1 - df.not_fully_paid\n",
    "df.drop('not_fully_paid', axis=1, inplace=True)"
   ]
  },
  {
   "cell_type": "code",
   "execution_count": 5,
   "id": "1dee31e4",
   "metadata": {},
   "outputs": [
    {
     "data": {
      "text/plain": [
       "1    8045\n",
       "0    1533\n",
       "Name: fully_paid, dtype: int64"
      ]
     },
     "execution_count": 5,
     "metadata": {},
     "output_type": "execute_result"
    }
   ],
   "source": [
    "df.fully_paid.value_counts()"
   ]
  },
  {
   "cell_type": "markdown",
   "id": "1684b0c6",
   "metadata": {},
   "source": [
    "# Splitting the data"
   ]
  },
  {
   "cell_type": "code",
   "execution_count": 6,
   "id": "6e8f53a6",
   "metadata": {},
   "outputs": [],
   "source": [
    "X = df.drop('fully_paid', axis = 1)\n",
    "y = df.fully_paid\n",
    "X_train, X_test, y_train, y_test = train_test_split(X, y, random_state=675, test_size=0.2)"
   ]
  },
  {
   "cell_type": "markdown",
   "id": "1f36aa87",
   "metadata": {},
   "source": [
    "# Base Model"
   ]
  },
  {
   "cell_type": "code",
   "execution_count": 7,
   "id": "07989a79",
   "metadata": {},
   "outputs": [],
   "source": [
    "numeric_features = X.select_dtypes(exclude='object').columns\n",
    "cat_features = df.select_dtypes('object').columns\n",
    "\n",
    "numeric_transformer = Pipeline(steps=[('scalar',StandardScaler())])\n",
    "cat_transformer = Pipeline(steps=[('one_hot',OneHotEncoder(handle_unknown='ignore'))])\n",
    "\n",
    "preprocessor = ColumnTransformer(transformers=[\n",
    "    ('num',numeric_transformer,numeric_features),\n",
    "    ('cat',cat_transformer,cat_features)])\n",
    "\n",
    "knn1 = Pipeline(steps =[\n",
    "    ('preprocessor',preprocessor),\n",
    "    ('knn_classifier', KNeighborsClassifier())])"
   ]
  },
  {
   "cell_type": "code",
   "execution_count": 8,
   "id": "d4fa1933",
   "metadata": {},
   "outputs": [
    {
     "name": "stdout",
     "output_type": "stream",
     "text": [
      "precision score:  0.9616573902288188\n",
      "recall score for:  0.8492626979792464\n",
      "f1 score for:  0.9019721577726217\n"
     ]
    }
   ],
   "source": [
    "knn1.fit(X_train,y_train)\n",
    "y_preds = knn1.predict(X_test)\n",
    "scores = precision_recall_fscore_support(y_preds, y_test, average='binary')\n",
    "print(\"precision score: \",scores[0])\n",
    "print(\"recall score for: \", scores[1])\n",
    "print(\"f1 score for: \", scores[2])\n"
   ]
  },
  {
   "cell_type": "code",
   "execution_count": 9,
   "id": "d93419dd",
   "metadata": {},
   "outputs": [
    {
     "data": {
      "text/plain": [
       "<sklearn.metrics._plot.confusion_matrix.ConfusionMatrixDisplay at 0x1ae3cd61700>"
      ]
     },
     "execution_count": 9,
     "metadata": {},
     "output_type": "execute_result"
    },
    {
     "data": {
      "image/png": "[encoded data removed]",
      "text/plain": [
       "<Figure size 432x288 with 2 Axes>"
      ]
     },
     "metadata": {
      "needs_background": "light"
     },
     "output_type": "display_data"
    }
   ],
   "source": [
    "plot_confusion_matrix(knn1 ,X_test, y_test)"
   ]
  },
  {
   "cell_type": "code",
   "execution_count": 10,
   "id": "33a780f5",
   "metadata": {},
   "outputs": [
    {
     "data": {
      "text/plain": [
       "<sklearn.metrics._plot.precision_recall_curve.PrecisionRecallDisplay at 0x1ae3d4f57f0>"
      ]
     },
     "execution_count": 10,
     "metadata": {},
     "output_type": "execute_result"
    },
    {
     "data": {
      "image/png": "[encoded data removed]",
      "text/plain": [
       "<Figure size 432x288 with 1 Axes>"
      ]
     },
     "metadata": {
      "needs_background": "light"
     },
     "output_type": "display_data"
    }
   ],
   "source": [
    "plot_precision_recall_curve(knn1 ,X_test, y_test)"
   ]
  },
  {
   "cell_type": "markdown",
   "id": "95e279d8",
   "metadata": {},
   "source": [
    "# Unbalanced Model With Hyperparameter Tuning\n",
    "\n",
    "*for knn do i need hyperparameter tuning? Should use grid search for number of neighbors*"
   ]
  },
  {
   "cell_type": "code",
   "execution_count": 11,
   "id": "ec3341f9",
   "metadata": {},
   "outputs": [
    {
     "data": {
      "text/plain": [
       "{'knn_classifier__n_neighbors': 10, 'knn_classifier__weights': 'distance'}"
      ]
     },
     "execution_count": 11,
     "metadata": {},
     "output_type": "execute_result"
    }
   ],
   "source": [
    "params = {\n",
    "    'knn_classifier__weights':['uniform', 'distance'],\n",
    "    'knn_classifier__n_neighbors':[2,3,5,7,10]\n",
    "}\n",
    "\n",
    "grid1 = GridSearchCV(knn1,params,scoring='f1')\n",
    "grid1.fit(X_train,y_train)\n",
    "grid1.best_params_"
   ]
  },
  {
   "cell_type": "code",
   "execution_count": 12,
   "id": "4f81f092",
   "metadata": {},
   "outputs": [
    {
     "data": {
      "text/plain": [
       "0.9089202801588229"
      ]
     },
     "execution_count": 12,
     "metadata": {},
     "output_type": "execute_result"
    }
   ],
   "source": [
    "grid1.best_score_"
   ]
  },
  {
   "cell_type": "code",
   "execution_count": 13,
   "id": "67383273",
   "metadata": {},
   "outputs": [
    {
     "name": "stdout",
     "output_type": "stream",
     "text": [
      "precision score:  0.9789734075448361\n",
      "recall score for:  0.8451681793913508\n",
      "f1 score for:  0.907163323782235\n"
     ]
    }
   ],
   "source": [
    "y_preds = grid1.predict(X_test)\n",
    "scores = precision_recall_fscore_support(y_preds, y_test, average='binary')\n",
    "print(\"precision score: \",scores[0])\n",
    "print(\"recall score for: \", scores[1])\n",
    "print(\"f1 score for: \", scores[2])"
   ]
  },
  {
   "cell_type": "markdown",
   "id": "4c539f31",
   "metadata": {},
   "source": [
    "# Model with undersampling and hyperparameter tuning"
   ]
  },
  {
   "cell_type": "code",
   "execution_count": 14,
   "id": "5b3fe362",
   "metadata": {},
   "outputs": [],
   "source": [
    "knn2 = imbPipeline(steps =[\n",
    "    ('preprocessor',preprocessor),\n",
    "    ('sampler',RandomUnderSampler(random_state=625)),\n",
    "    ('knn_classifier', KNeighborsClassifier())])"
   ]
  },
  {
   "cell_type": "code",
   "execution_count": 15,
   "id": "7c22dddb",
   "metadata": {},
   "outputs": [
    {
     "data": {
      "text/plain": [
       "{'knn_classifier__n_neighbors': 10, 'knn_classifier__weights': 'distance'}"
      ]
     },
     "execution_count": 15,
     "metadata": {},
     "output_type": "execute_result"
    }
   ],
   "source": [
    "grid2 = GridSearchCV(knn2,params,scoring='f1')\n",
    "grid2.fit(X_train,y_train)\n",
    "grid2.best_params_"
   ]
  },
  {
   "cell_type": "code",
   "execution_count": 16,
   "id": "42fbb030",
   "metadata": {},
   "outputs": [
    {
     "data": {
      "text/plain": [
       "0.7254177481585282"
      ]
     },
     "execution_count": 16,
     "metadata": {},
     "output_type": "execute_result"
    }
   ],
   "source": [
    "grid2.best_score_"
   ]
  },
  {
   "cell_type": "code",
   "execution_count": 17,
   "id": "d51b2abb",
   "metadata": {},
   "outputs": [
    {
     "name": "stdout",
     "output_type": "stream",
     "text": [
      "precision score:  0.6376004947433519\n",
      "recall score for:  0.8744698897370653\n",
      "f1 score for:  0.7374821173104434\n"
     ]
    }
   ],
   "source": [
    "y_preds = grid2.predict(X_test)\n",
    "scores = precision_recall_fscore_support(y_preds, y_test, average='binary')\n",
    "print(\"precision score: \",scores[0])\n",
    "print(\"recall score for: \", scores[1])\n",
    "print(\"f1 score for: \", scores[2])"
   ]
  },
  {
   "cell_type": "markdown",
   "id": "68992152",
   "metadata": {},
   "source": [
    "# Model with oversampling and hyperparameter tuning"
   ]
  },
  {
   "cell_type": "code",
   "execution_count": 18,
   "id": "ac6a4e24",
   "metadata": {},
   "outputs": [],
   "source": [
    "knn3 = imbPipeline(steps =[\n",
    "    ('preprocessor',preprocessor),\n",
    "    ('sampler',RandomOverSampler(random_state=625)),\n",
    "    ('knn_classifier', KNeighborsClassifier())])"
   ]
  },
  {
   "cell_type": "code",
   "execution_count": 19,
   "id": "fc9390cc",
   "metadata": {},
   "outputs": [
    {
     "data": {
      "text/plain": [
       "{'knn_classifier__n_neighbors': 2, 'knn_classifier__weights': 'distance'}"
      ]
     },
     "execution_count": 19,
     "metadata": {},
     "output_type": "execute_result"
    }
   ],
   "source": [
    "grid3 = GridSearchCV(knn3,params,scoring='f1')\n",
    "grid3.fit(X_train,y_train)\n",
    "grid3.best_params_"
   ]
  },
  {
   "cell_type": "code",
   "execution_count": 20,
   "id": "9492e01a",
   "metadata": {},
   "outputs": [
    {
     "data": {
      "text/plain": [
       "0.863226039369418"
      ]
     },
     "execution_count": 20,
     "metadata": {},
     "output_type": "execute_result"
    }
   ],
   "source": [
    "grid3.best_score_"
   ]
  },
  {
   "cell_type": "code",
   "execution_count": 21,
   "id": "9559fd38",
   "metadata": {},
   "outputs": [
    {
     "name": "stdout",
     "output_type": "stream",
     "text": [
      "precision score:  0.8559059987631417\n",
      "recall score for:  0.847001223990208\n",
      "f1 score for:  0.8514303291294987\n"
     ]
    }
   ],
   "source": [
    "y_preds = grid3.predict(X_test)\n",
    "scores = precision_recall_fscore_support(y_preds, y_test, average='binary')\n",
    "print(\"precision score: \",scores[0])\n",
    "print(\"recall score for: \", scores[1])\n",
    "print(\"f1 score for: \", scores[2])"
   ]
  },
  {
   "cell_type": "markdown",
   "id": "dd4349fb",
   "metadata": {},
   "source": [
    "Knn did not perform as well as the best dummy classifier"
   ]
  }
 ],
 "metadata": {
  "kernelspec": {
   "display_name": "Python 3",
   "language": "python",
   "name": "python3"
  },
  "language_info": {
   "codemirror_mode": {
    "name": "ipython",
    "version": 3
   },
   "file_extension": ".py",
   "mimetype": "text/x-python",
   "name": "python",
   "nbconvert_exporter": "python",
   "pygments_lexer": "ipython3",
   "version": "3.9.5"
  }
 },
 "nbformat": 4,
 "nbformat_minor": 5
}
