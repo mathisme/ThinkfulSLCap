{
 "cells": [
  {
   "cell_type": "code",
   "execution_count": 90,
   "id": "e2b72c1d",
   "metadata": {},
   "outputs": [],
   "source": [
    "import numpy as np\n",
    "import pandas as pd\n",
    "import matplotlib.pyplot as plt\n",
    "import seaborn as sns\n",
    "from sklearn.model_selection import train_test_split\n",
    "from sklearn.preprocessing import MinMaxScaler\n",
    "from sklearn.decomposition import PCA"
   ]
  },
  {
   "cell_type": "markdown",
   "id": "8d66bfe8",
   "metadata": {},
   "source": [
    "The data can be found here: https://www.kaggle.com/itssuru/loan-data"
   ]
  },
  {
   "cell_type": "code",
   "execution_count": 2,
   "id": "3e20f449",
   "metadata": {},
   "outputs": [],
   "source": [
    "df = pd.read_csv('../data/loan_data.csv')"
   ]
  },
  {
   "cell_type": "code",
   "execution_count": 3,
   "id": "5eb8773c",
   "metadata": {},
   "outputs": [
    {
     "name": "stdout",
     "output_type": "stream",
     "text": [
      "<class 'pandas.core.frame.DataFrame'>\n",
      "RangeIndex: 9578 entries, 0 to 9577\n",
      "Data columns (total 14 columns):\n",
      " #   Column             Non-Null Count  Dtype  \n",
      "---  ------             --------------  -----  \n",
      " 0   credit.policy      9578 non-null   int64  \n",
      " 1   purpose            9578 non-null   object \n",
      " 2   int.rate           9578 non-null   float64\n",
      " 3   installment        9578 non-null   float64\n",
      " 4   log.annual.inc     9578 non-null   float64\n",
      " 5   dti                9578 non-null   float64\n",
      " 6   fico               9578 non-null   int64  \n",
      " 7   days.with.cr.line  9578 non-null   float64\n",
      " 8   revol.bal          9578 non-null   int64  \n",
      " 9   revol.util         9578 non-null   float64\n",
      " 10  inq.last.6mths     9578 non-null   int64  \n",
      " 11  delinq.2yrs        9578 non-null   int64  \n",
      " 12  pub.rec            9578 non-null   int64  \n",
      " 13  not.fully.paid     9578 non-null   int64  \n",
      "dtypes: float64(6), int64(7), object(1)\n",
      "memory usage: 1.0+ MB\n"
     ]
    }
   ],
   "source": [
    "df.info()"
   ]
  },
  {
   "cell_type": "code",
   "execution_count": 4,
   "id": "c068d42a",
   "metadata": {},
   "outputs": [
    {
     "data": {
      "text/html": [
       "<div>\n",
       "<style scoped>\n",
       "    .dataframe tbody tr th:only-of-type {\n",
       "        vertical-align: middle;\n",
       "    }\n",
       "\n",
       "    .dataframe tbody tr th {\n",
       "        vertical-align: top;\n",
       "    }\n",
       "\n",
       "    .dataframe thead th {\n",
       "        text-align: right;\n",
       "    }\n",
       "</style>\n",
       "<table border=\"1\" class=\"dataframe\">\n",
       "  <thead>\n",
       "    <tr style=\"text-align: right;\">\n",
       "      <th></th>\n",
       "      <th>credit.policy</th>\n",
       "      <th>purpose</th>\n",
       "      <th>int.rate</th>\n",
       "      <th>installment</th>\n",
       "      <th>log.annual.inc</th>\n",
       "      <th>dti</th>\n",
       "      <th>fico</th>\n",
       "      <th>days.with.cr.line</th>\n",
       "      <th>revol.bal</th>\n",
       "      <th>revol.util</th>\n",
       "      <th>inq.last.6mths</th>\n",
       "      <th>delinq.2yrs</th>\n",
       "      <th>pub.rec</th>\n",
       "      <th>not.fully.paid</th>\n",
       "    </tr>\n",
       "  </thead>\n",
       "  <tbody>\n",
       "    <tr>\n",
       "      <th>0</th>\n",
       "      <td>1</td>\n",
       "      <td>debt_consolidation</td>\n",
       "      <td>0.1189</td>\n",
       "      <td>829.10</td>\n",
       "      <td>11.350407</td>\n",
       "      <td>19.48</td>\n",
       "      <td>737</td>\n",
       "      <td>5639.958333</td>\n",
       "      <td>28854</td>\n",
       "      <td>52.1</td>\n",
       "      <td>0</td>\n",
       "      <td>0</td>\n",
       "      <td>0</td>\n",
       "      <td>0</td>\n",
       "    </tr>\n",
       "    <tr>\n",
       "      <th>1</th>\n",
       "      <td>1</td>\n",
       "      <td>credit_card</td>\n",
       "      <td>0.1071</td>\n",
       "      <td>228.22</td>\n",
       "      <td>11.082143</td>\n",
       "      <td>14.29</td>\n",
       "      <td>707</td>\n",
       "      <td>2760.000000</td>\n",
       "      <td>33623</td>\n",
       "      <td>76.7</td>\n",
       "      <td>0</td>\n",
       "      <td>0</td>\n",
       "      <td>0</td>\n",
       "      <td>0</td>\n",
       "    </tr>\n",
       "    <tr>\n",
       "      <th>2</th>\n",
       "      <td>1</td>\n",
       "      <td>debt_consolidation</td>\n",
       "      <td>0.1357</td>\n",
       "      <td>366.86</td>\n",
       "      <td>10.373491</td>\n",
       "      <td>11.63</td>\n",
       "      <td>682</td>\n",
       "      <td>4710.000000</td>\n",
       "      <td>3511</td>\n",
       "      <td>25.6</td>\n",
       "      <td>1</td>\n",
       "      <td>0</td>\n",
       "      <td>0</td>\n",
       "      <td>0</td>\n",
       "    </tr>\n",
       "    <tr>\n",
       "      <th>3</th>\n",
       "      <td>1</td>\n",
       "      <td>debt_consolidation</td>\n",
       "      <td>0.1008</td>\n",
       "      <td>162.34</td>\n",
       "      <td>11.350407</td>\n",
       "      <td>8.10</td>\n",
       "      <td>712</td>\n",
       "      <td>2699.958333</td>\n",
       "      <td>33667</td>\n",
       "      <td>73.2</td>\n",
       "      <td>1</td>\n",
       "      <td>0</td>\n",
       "      <td>0</td>\n",
       "      <td>0</td>\n",
       "    </tr>\n",
       "    <tr>\n",
       "      <th>4</th>\n",
       "      <td>1</td>\n",
       "      <td>credit_card</td>\n",
       "      <td>0.1426</td>\n",
       "      <td>102.92</td>\n",
       "      <td>11.299732</td>\n",
       "      <td>14.97</td>\n",
       "      <td>667</td>\n",
       "      <td>4066.000000</td>\n",
       "      <td>4740</td>\n",
       "      <td>39.5</td>\n",
       "      <td>0</td>\n",
       "      <td>1</td>\n",
       "      <td>0</td>\n",
       "      <td>0</td>\n",
       "    </tr>\n",
       "  </tbody>\n",
       "</table>\n",
       "</div>"
      ],
      "text/plain": [
       "   credit.policy             purpose  int.rate  installment  log.annual.inc  \\\n",
       "0              1  debt_consolidation    0.1189       829.10       11.350407   \n",
       "1              1         credit_card    0.1071       228.22       11.082143   \n",
       "2              1  debt_consolidation    0.1357       366.86       10.373491   \n",
       "3              1  debt_consolidation    0.1008       162.34       11.350407   \n",
       "4              1         credit_card    0.1426       102.92       11.299732   \n",
       "\n",
       "     dti  fico  days.with.cr.line  revol.bal  revol.util  inq.last.6mths  \\\n",
       "0  19.48   737        5639.958333      28854        52.1               0   \n",
       "1  14.29   707        2760.000000      33623        76.7               0   \n",
       "2  11.63   682        4710.000000       3511        25.6               1   \n",
       "3   8.10   712        2699.958333      33667        73.2               1   \n",
       "4  14.97   667        4066.000000       4740        39.5               0   \n",
       "\n",
       "   delinq.2yrs  pub.rec  not.fully.paid  \n",
       "0            0        0               0  \n",
       "1            0        0               0  \n",
       "2            0        0               0  \n",
       "3            0        0               0  \n",
       "4            1        0               0  "
      ]
     },
     "execution_count": 4,
     "metadata": {},
     "output_type": "execute_result"
    }
   ],
   "source": [
    "df.head()"
   ]
  },
  {
   "cell_type": "markdown",
   "id": "5f48bea3",
   "metadata": {},
   "source": [
    "# Checking for missing values"
   ]
  },
  {
   "cell_type": "code",
   "execution_count": 5,
   "id": "4a354953",
   "metadata": {},
   "outputs": [
    {
     "data": {
      "text/plain": [
       "credit.policy        0\n",
       "purpose              0\n",
       "int.rate             0\n",
       "installment          0\n",
       "log.annual.inc       0\n",
       "dti                  0\n",
       "fico                 0\n",
       "days.with.cr.line    0\n",
       "revol.bal            0\n",
       "revol.util           0\n",
       "inq.last.6mths       0\n",
       "delinq.2yrs          0\n",
       "pub.rec              0\n",
       "not.fully.paid       0\n",
       "dtype: int64"
      ]
     },
     "execution_count": 5,
     "metadata": {},
     "output_type": "execute_result"
    }
   ],
   "source": [
    "df.isnull().sum()"
   ]
  },
  {
   "cell_type": "code",
   "execution_count": 6,
   "id": "5884fb2c",
   "metadata": {},
   "outputs": [
    {
     "data": {
      "text/plain": [
       "array(['debt_consolidation', 'credit_card', 'all_other',\n",
       "       'home_improvement', 'small_business', 'major_purchase',\n",
       "       'educational'], dtype=object)"
      ]
     },
     "execution_count": 6,
     "metadata": {},
     "output_type": "execute_result"
    }
   ],
   "source": [
    "df.purpose.unique()"
   ]
  },
  {
   "cell_type": "markdown",
   "id": "79fc157d",
   "metadata": {},
   "source": [
    "It appears there are no missing values"
   ]
  },
  {
   "cell_type": "markdown",
   "id": "bacec211",
   "metadata": {},
   "source": [
    "replacing the periods in column names with underscores for ease of use purposes."
   ]
  },
  {
   "cell_type": "code",
   "execution_count": 7,
   "id": "f35c8ed2",
   "metadata": {},
   "outputs": [
    {
     "data": {
      "text/plain": [
       "Index(['credit_policy', 'purpose', 'int_rate', 'installment', 'log_annual_inc',\n",
       "       'dti', 'fico', 'days_with_cr_line', 'revol_bal', 'revol_util',\n",
       "       'inq_last_6mths', 'delinq_2yrs', 'pub_rec', 'not_fully_paid'],\n",
       "      dtype='object')"
      ]
     },
     "execution_count": 7,
     "metadata": {},
     "output_type": "execute_result"
    }
   ],
   "source": [
    "df.columns = [x.replace('.','_') for x in df.columns]\n",
    "df.columns"
   ]
  },
  {
   "cell_type": "markdown",
   "id": "2d36d718",
   "metadata": {},
   "source": [
    "To make it easier on myself to interpret plots, I'm creating a fully_paid column."
   ]
  },
  {
   "cell_type": "code",
   "execution_count": 8,
   "id": "c5edae9c",
   "metadata": {},
   "outputs": [],
   "source": [
    "df['fully_paid'] = 1 - df.not_fully_paid\n",
    "df.drop('not_fully_paid',axis=1,inplace=True)"
   ]
  },
  {
   "cell_type": "code",
   "execution_count": 9,
   "id": "342301ad",
   "metadata": {},
   "outputs": [
    {
     "data": {
      "text/plain": [
       "1    8045\n",
       "0    1533\n",
       "Name: fully_paid, dtype: int64"
      ]
     },
     "execution_count": 9,
     "metadata": {},
     "output_type": "execute_result"
    }
   ],
   "source": [
    "df.fully_paid.value_counts()"
   ]
  },
  {
   "cell_type": "markdown",
   "id": "d0be4fa6",
   "metadata": {},
   "source": [
    "# Splitting the data\n",
    "\n",
    "The original dataframe, or a subset of it, dividing it into equal groups, will be used for exploratory data analysis.  For removing extreme outliers only what will be used as the training set in model development will be used."
   ]
  },
  {
   "cell_type": "code",
   "execution_count": 10,
   "id": "9a478cb9",
   "metadata": {},
   "outputs": [],
   "source": [
    "original = df.copy()\n",
    "df, df_test = train_test_split(df, random_state=675, test_size=0.2)"
   ]
  },
  {
   "cell_type": "code",
   "execution_count": 12,
   "id": "899654bf",
   "metadata": {},
   "outputs": [],
   "source": [
    "paid=original[original.fully_paid==1]\n",
    "not_paid =original[original.fully_paid==0]\n",
    "paid_subsample = paid.sample(n=1000, random_state=675)\n",
    "not_paid_subsample = not_paid.sample(n=1000, random_state=675)\n",
    "original_subsample = pd.concat([paid_subsample,not_paid_subsample])"
   ]
  },
  {
   "cell_type": "markdown",
   "id": "33ad69bb",
   "metadata": {},
   "source": [
    "# Exploring the features\n"
   ]
  },
  {
   "cell_type": "markdown",
   "id": "6d2c2a4b",
   "metadata": {},
   "source": [
    "## Credit policy\n",
    "\n",
    "1 if the customer meets the credit underwriting policy of lending club, 0 if they do not."
   ]
  },
  {
   "cell_type": "code",
   "execution_count": 13,
   "id": "7726f6e1",
   "metadata": {},
   "outputs": [
    {
     "data": {
      "text/plain": [
       "<AxesSubplot:xlabel='credit_policy', ylabel='count'>"
      ]
     },
     "execution_count": 13,
     "metadata": {},
     "output_type": "execute_result"
    },
    {
     "data": {
      "image/png": "[encoded data removed]",
      "text/plain": [
       "<Figure size 432x288 with 1 Axes>"
      ]
     },
     "metadata": {
      "needs_background": "light"
     },
     "output_type": "display_data"
    }
   ],
   "source": [
    "sns.countplot(x = 'credit_policy', data = original)"
   ]
  },
  {
   "cell_type": "markdown",
   "id": "cc3ccef5",
   "metadata": {},
   "source": [
    "More customers meet the credit policy than not.\n",
    "\n",
    "Now compairing credit policy counts with fully paid counts..."
   ]
  },
  {
   "cell_type": "code",
   "execution_count": 14,
   "id": "5b10739b",
   "metadata": {},
   "outputs": [
    {
     "data": {
      "text/plain": [
       "<AxesSubplot:xlabel='credit_policy', ylabel='count'>"
      ]
     },
     "execution_count": 14,
     "metadata": {},
     "output_type": "execute_result"
    },
    {
     "data": {
      "image/png": "[encoded data removed]",
      "text/plain": [
       "<Figure size 432x288 with 1 Axes>"
      ]
     },
     "metadata": {
      "needs_background": "light"
     },
     "output_type": "display_data"
    }
   ],
   "source": [
    "sns.countplot(x = 'credit_policy', hue = 'fully_paid', data = original_subsample)\n"
   ]
  },
  {
   "cell_type": "markdown",
   "id": "1c43bb5d",
   "metadata": {},
   "source": [
    "For those that do not meet the credit policy there are more not fully paid than fully paid.  The reverse is true for those that meet the credit policy."
   ]
  },
  {
   "cell_type": "markdown",
   "id": "90481564",
   "metadata": {},
   "source": [
    "## Purpose"
   ]
  },
  {
   "cell_type": "code",
   "execution_count": 15,
   "id": "05a4fcb5",
   "metadata": {},
   "outputs": [
    {
     "data": {
      "text/plain": [
       "array(['debt_consolidation', 'credit_card', 'all_other',\n",
       "       'home_improvement', 'small_business', 'major_purchase',\n",
       "       'educational'], dtype=object)"
      ]
     },
     "execution_count": 15,
     "metadata": {},
     "output_type": "execute_result"
    }
   ],
   "source": [
    "original.purpose.unique()"
   ]
  },
  {
   "cell_type": "markdown",
   "id": "4a72cd7b",
   "metadata": {},
   "source": [
    "When doing modeling this will need to be one hot encoded"
   ]
  },
  {
   "cell_type": "code",
   "execution_count": 16,
   "id": "56904f60",
   "metadata": {},
   "outputs": [
    {
     "data": {
      "text/plain": [
       "<AxesSubplot:xlabel='purpose', ylabel='count'>"
      ]
     },
     "execution_count": 16,
     "metadata": {},
     "output_type": "execute_result"
    },
    {
     "data": {
      "image/png": "[encoded data removed]",
      "text/plain": [
       "<Figure size 921.6x345.6 with 1 Axes>"
      ]
     },
     "metadata": {
      "needs_background": "light"
     },
     "output_type": "display_data"
    }
   ],
   "source": [
    "fig, ax = plt.subplots(figsize=(12.8,4.8))\n",
    "sns.countplot(x='purpose',hue='fully_paid',data=original_subsample)"
   ]
  },
  {
   "cell_type": "markdown",
   "id": "211b19b8",
   "metadata": {},
   "source": [
    "For a major purchase, debt consolidation, and credit card there are more fully paid than not."
   ]
  },
  {
   "cell_type": "markdown",
   "id": "5eafa7ca",
   "metadata": {},
   "source": [
    "## interest rate\n",
    "\n",
    "The interest rate of the loan"
   ]
  },
  {
   "cell_type": "code",
   "execution_count": 17,
   "id": "0dfca3ad",
   "metadata": {},
   "outputs": [
    {
     "data": {
      "text/plain": [
       "<AxesSubplot:>"
      ]
     },
     "execution_count": 17,
     "metadata": {},
     "output_type": "execute_result"
    },
    {
     "data": {
      "image/png": "[encoded data removed]",
      "text/plain": [
       "<Figure size 432x288 with 1 Axes>"
      ]
     },
     "metadata": {
      "needs_background": "light"
     },
     "output_type": "display_data"
    }
   ],
   "source": [
    "original.int_rate.hist(bins=25)"
   ]
  },
  {
   "cell_type": "code",
   "execution_count": 18,
   "id": "70039aaf",
   "metadata": {},
   "outputs": [
    {
     "data": {
      "text/plain": [
       "count    9578.000000\n",
       "mean        0.122640\n",
       "std         0.026847\n",
       "min         0.060000\n",
       "25%         0.103900\n",
       "50%         0.122100\n",
       "75%         0.140700\n",
       "max         0.216400\n",
       "Name: int_rate, dtype: float64"
      ]
     },
     "execution_count": 18,
     "metadata": {},
     "output_type": "execute_result"
    }
   ],
   "source": [
    "original.int_rate.describe()"
   ]
  },
  {
   "cell_type": "markdown",
   "id": "89e7ebd8",
   "metadata": {},
   "source": [
    "The interest raid paid has a skewed distribution with some paying large interest rates.  The mean interest rate is 12%.  Looking at the interest rate distributions for paid and unpaid loans..."
   ]
  },
  {
   "cell_type": "code",
   "execution_count": 19,
   "id": "991674a1",
   "metadata": {},
   "outputs": [
    {
     "data": {
      "text/plain": [
       "<AxesSubplot:xlabel='fully_paid', ylabel='int_rate'>"
      ]
     },
     "execution_count": 19,
     "metadata": {},
     "output_type": "execute_result"
    },
    {
     "data": {
      "image/png": "[encoded data removed]",
      "text/plain": [
       "<Figure size 432x288 with 1 Axes>"
      ]
     },
     "metadata": {
      "needs_background": "light"
     },
     "output_type": "display_data"
    }
   ],
   "source": [
    "sns.boxplot(x='fully_paid',y='int_rate',data=original)"
   ]
  },
  {
   "cell_type": "markdown",
   "id": "53ba0dd6",
   "metadata": {},
   "source": [
    "As you can see the interest rate is slightly higher for those not fully paid.  \n",
    "\n",
    "### Detecting outliers\n",
    "\n",
    "*note to self: if you do find persistent outliers, you will need to use a validation set*\n",
    "\n",
    "As the distribution is skewed, I will do 2 iqr to detect extreme outliers\n"
   ]
  },
  {
   "cell_type": "code",
   "execution_count": 20,
   "id": "93a656fe",
   "metadata": {},
   "outputs": [
    {
     "data": {
      "text/plain": [
       "[9566, 9549]"
      ]
     },
     "execution_count": 20,
     "metadata": {},
     "output_type": "execute_result"
    }
   ],
   "source": [
    "# checking outliers in the distribution\n",
    "outlier_counts = {}\n",
    "stats = df.int_rate.describe()\n",
    "q1 = stats['25%']\n",
    "q3 = stats['75%']\n",
    "iqr = 2*(q3-q1)\n",
    "outliers = list(df[df.int_rate > q3 + iqr].index)\n",
    "outliers"
   ]
  },
  {
   "cell_type": "code",
   "execution_count": 21,
   "id": "1ba960b1",
   "metadata": {},
   "outputs": [],
   "source": [
    "for o in outliers:\n",
    "    outlier_counts[o] = outlier_counts.get(o,0)+1\n"
   ]
  },
  {
   "cell_type": "markdown",
   "id": "3d49ea5e",
   "metadata": {},
   "source": [
    "## installment\n",
    "\n",
    "the monthly installments owed by the borrower"
   ]
  },
  {
   "cell_type": "code",
   "execution_count": 22,
   "id": "a0329bbc",
   "metadata": {},
   "outputs": [
    {
     "data": {
      "text/plain": [
       "<AxesSubplot:>"
      ]
     },
     "execution_count": 22,
     "metadata": {},
     "output_type": "execute_result"
    },
    {
     "data": {
      "image/png": "[encoded data removed]",
      "text/plain": [
       "<Figure size 432x288 with 1 Axes>"
      ]
     },
     "metadata": {
      "needs_background": "light"
     },
     "output_type": "display_data"
    }
   ],
   "source": [
    "original.installment.hist(bins=25)"
   ]
  },
  {
   "cell_type": "code",
   "execution_count": 23,
   "id": "fb56d841",
   "metadata": {},
   "outputs": [
    {
     "data": {
      "text/plain": [
       "count    9578.000000\n",
       "mean      319.089413\n",
       "std       207.071301\n",
       "min        15.670000\n",
       "25%       163.770000\n",
       "50%       268.950000\n",
       "75%       432.762500\n",
       "max       940.140000\n",
       "Name: installment, dtype: float64"
      ]
     },
     "execution_count": 23,
     "metadata": {},
     "output_type": "execute_result"
    }
   ],
   "source": [
    "original.installment.describe()"
   ]
  },
  {
   "cell_type": "code",
   "execution_count": 24,
   "id": "02a9fc3c",
   "metadata": {},
   "outputs": [
    {
     "data": {
      "text/plain": [
       "<AxesSubplot:xlabel='fully_paid', ylabel='installment'>"
      ]
     },
     "execution_count": 24,
     "metadata": {},
     "output_type": "execute_result"
    },
    {
     "data": {
      "image/png": "[encoded data removed]",
      "text/plain": [
       "<Figure size 432x288 with 1 Axes>"
      ]
     },
     "metadata": {
      "needs_background": "light"
     },
     "output_type": "display_data"
    }
   ],
   "source": [
    "sns.boxplot(x='fully_paid',y='installment',data=original)"
   ]
  },
  {
   "cell_type": "markdown",
   "id": "dbffbc7f",
   "metadata": {},
   "source": [
    "There is only a slight difference"
   ]
  },
  {
   "cell_type": "markdown",
   "id": "367c97f8",
   "metadata": {},
   "source": [
    "### Detecting outliers"
   ]
  },
  {
   "cell_type": "code",
   "execution_count": 25,
   "id": "8edcd7cf",
   "metadata": {},
   "outputs": [
    {
     "data": {
      "text/plain": [
       "[]"
      ]
     },
     "execution_count": 25,
     "metadata": {},
     "output_type": "execute_result"
    }
   ],
   "source": [
    "stats = df.installment.describe()\n",
    "q1 = stats['25%']\n",
    "q3 = stats['75%']\n",
    "iqr = 2*(q3-q1)\n",
    "outliers = list(df[df.installment > q3 + iqr].index)\n",
    "outliers"
   ]
  },
  {
   "cell_type": "markdown",
   "id": "972c9511",
   "metadata": {},
   "source": [
    "Even though there is skew, no outliers are apparent in the training set.\n"
   ]
  },
  {
   "cell_type": "markdown",
   "id": "67ff588f",
   "metadata": {},
   "source": [
    "## Log annual income\n",
    "\n",
    "The log of the annual income of the borrower.  "
   ]
  },
  {
   "cell_type": "code",
   "execution_count": 26,
   "id": "5405a264",
   "metadata": {},
   "outputs": [
    {
     "data": {
      "text/plain": [
       "<AxesSubplot:>"
      ]
     },
     "execution_count": 26,
     "metadata": {},
     "output_type": "execute_result"
    },
    {
     "data": {
      "image/png": "[encoded data removed]",
      "text/plain": [
       "<Figure size 432x288 with 1 Axes>"
      ]
     },
     "metadata": {
      "needs_background": "light"
     },
     "output_type": "display_data"
    }
   ],
   "source": [
    "original.log_annual_inc.hist(bins=25)"
   ]
  },
  {
   "cell_type": "markdown",
   "id": "11c86c66",
   "metadata": {},
   "source": [
    "Log annual income seems relatively normal."
   ]
  },
  {
   "cell_type": "code",
   "execution_count": 27,
   "id": "e1c18e9a",
   "metadata": {},
   "outputs": [
    {
     "data": {
      "text/plain": [
       "<AxesSubplot:xlabel='fully_paid', ylabel='log_annual_inc'>"
      ]
     },
     "execution_count": 27,
     "metadata": {},
     "output_type": "execute_result"
    },
    {
     "data": {
      "image/png": "[encoded data removed]",
      "text/plain": [
       "<Figure size 432x288 with 1 Axes>"
      ]
     },
     "metadata": {
      "needs_background": "light"
     },
     "output_type": "display_data"
    }
   ],
   "source": [
    "sns.boxplot(x='fully_paid',y='log_annual_inc',data=original)"
   ]
  },
  {
   "cell_type": "markdown",
   "id": "5ffd3575",
   "metadata": {},
   "source": [
    "There doesn't appear to be much difference between the income distributions of those who have fully faid and those who have not."
   ]
  },
  {
   "cell_type": "markdown",
   "id": "55ebe251",
   "metadata": {},
   "source": [
    "### Detecting outliers"
   ]
  },
  {
   "cell_type": "code",
   "execution_count": 28,
   "id": "e70993bc",
   "metadata": {},
   "outputs": [
    {
     "data": {
      "text/plain": [
       "[7897, 653, 7822]"
      ]
     },
     "execution_count": 28,
     "metadata": {},
     "output_type": "execute_result"
    }
   ],
   "source": [
    "stats = df.log_annual_inc.describe()\n",
    "q1 = stats['25%']\n",
    "q3 = stats['75%']\n",
    "iqr = 4*(q3-q1)\n",
    "outliers = list(df[(df.log_annual_inc > q3 + iqr)|(df.log_annual_inc < q1 -iqr)].index)\n",
    "outliers\n",
    "\n",
    "# 4 iqr?\n",
    "\n",
    "#mu = df.log_annual_inc.mean()\n",
    "#std = df.log_annual_inc.std()\n",
    "#df[(df.log_annual_inc < mu - 3*std)|(df.log_annual_inc > mu + 3*std)].index"
   ]
  },
  {
   "cell_type": "code",
   "execution_count": 29,
   "id": "8a8b39d0",
   "metadata": {},
   "outputs": [],
   "source": [
    "for o in outliers:\n",
    "    outlier_counts[o] = outlier_counts.get(o,0)+1"
   ]
  },
  {
   "cell_type": "markdown",
   "id": "b535fd17",
   "metadata": {},
   "source": [
    "## dti\n",
    "\n",
    "The debt to income ratio of the borrower"
   ]
  },
  {
   "cell_type": "code",
   "execution_count": 30,
   "id": "cff21fa6",
   "metadata": {},
   "outputs": [
    {
     "data": {
      "text/plain": [
       "<AxesSubplot:>"
      ]
     },
     "execution_count": 30,
     "metadata": {},
     "output_type": "execute_result"
    },
    {
     "data": {
      "image/png": "[encoded data removed]",
      "text/plain": [
       "<Figure size 432x288 with 1 Axes>"
      ]
     },
     "metadata": {
      "needs_background": "light"
     },
     "output_type": "display_data"
    }
   ],
   "source": [
    "original.dti.hist(bins=25)"
   ]
  },
  {
   "cell_type": "markdown",
   "id": "9a54ab6b",
   "metadata": {},
   "source": [
    "Definitely not normal.  There appears to be two distributions, those without debt and those with debt."
   ]
  },
  {
   "cell_type": "code",
   "execution_count": 31,
   "id": "9c28373a",
   "metadata": {},
   "outputs": [
    {
     "data": {
      "text/plain": [
       "89"
      ]
     },
     "execution_count": 31,
     "metadata": {},
     "output_type": "execute_result"
    }
   ],
   "source": [
    "original[original.dti==0].shape[0]"
   ]
  },
  {
   "cell_type": "code",
   "execution_count": 33,
   "id": "eab2fdda",
   "metadata": {},
   "outputs": [
    {
     "data": {
      "text/plain": [
       "<AxesSubplot:>"
      ]
     },
     "execution_count": 33,
     "metadata": {},
     "output_type": "execute_result"
    },
    {
     "data": {
      "image/png": "[encoded data removed]",
      "text/plain": [
       "<Figure size 432x288 with 1 Axes>"
      ]
     },
     "metadata": {
      "needs_background": "light"
     },
     "output_type": "display_data"
    }
   ],
   "source": [
    "no_debt_sample = original_subsample[original_subsample.dti==0]\n",
    "debt_original = original[original.dti!=0]\n",
    "debt_original.dti.hist(bins=25)"
   ]
  },
  {
   "cell_type": "markdown",
   "id": "290f964c",
   "metadata": {},
   "source": [
    "Looking at boxplots for those with debt"
   ]
  },
  {
   "cell_type": "code",
   "execution_count": 34,
   "id": "2136c14d",
   "metadata": {},
   "outputs": [
    {
     "data": {
      "text/plain": [
       "<AxesSubplot:xlabel='fully_paid', ylabel='dti'>"
      ]
     },
     "execution_count": 34,
     "metadata": {},
     "output_type": "execute_result"
    },
    {
     "data": {
      "image/png": "[encoded data removed]",
      "text/plain": [
       "<Figure size 432x288 with 1 Axes>"
      ]
     },
     "metadata": {
      "needs_background": "light"
     },
     "output_type": "display_data"
    }
   ],
   "source": [
    "sns.boxplot(x='fully_paid',y='dti',data=debt_original)"
   ]
  },
  {
   "cell_type": "markdown",
   "id": "b2bd6019",
   "metadata": {},
   "source": [
    "Only a slight difference between the two. No outliers are apparent."
   ]
  },
  {
   "cell_type": "markdown",
   "id": "de4ad2ae",
   "metadata": {},
   "source": [
    "Looking at counts for those with no debt"
   ]
  },
  {
   "cell_type": "code",
   "execution_count": 35,
   "id": "256b39ae",
   "metadata": {},
   "outputs": [
    {
     "data": {
      "text/plain": [
       "<AxesSubplot:xlabel='fully_paid', ylabel='count'>"
      ]
     },
     "execution_count": 35,
     "metadata": {},
     "output_type": "execute_result"
    },
    {
     "data": {
      "image/png": "[encoded data removed]",
      "text/plain": [
       "<Figure size 432x288 with 1 Axes>"
      ]
     },
     "metadata": {
      "needs_background": "light"
     },
     "output_type": "display_data"
    }
   ],
   "source": [
    "sns.countplot(x = 'fully_paid', data = no_debt_sample)"
   ]
  },
  {
   "cell_type": "markdown",
   "id": "9f60b177",
   "metadata": {},
   "source": [
    "Odd, for those without debt, more have not fully paid."
   ]
  },
  {
   "cell_type": "markdown",
   "id": "e9476a3a",
   "metadata": {},
   "source": [
    "### Fico score"
   ]
  },
  {
   "cell_type": "code",
   "execution_count": 36,
   "id": "d612135b",
   "metadata": {},
   "outputs": [
    {
     "data": {
      "text/plain": [
       "<AxesSubplot:>"
      ]
     },
     "execution_count": 36,
     "metadata": {},
     "output_type": "execute_result"
    },
    {
     "data": {
      "image/png": "[encoded data removed]",
      "text/plain": [
       "<Figure size 432x288 with 1 Axes>"
      ]
     },
     "metadata": {
      "needs_background": "light"
     },
     "output_type": "display_data"
    }
   ],
   "source": [
    "original.fico.hist(bins=25)"
   ]
  },
  {
   "cell_type": "code",
   "execution_count": 37,
   "id": "4c72a429",
   "metadata": {},
   "outputs": [
    {
     "data": {
      "text/plain": [
       "<AxesSubplot:xlabel='fully_paid', ylabel='fico'>"
      ]
     },
     "execution_count": 37,
     "metadata": {},
     "output_type": "execute_result"
    },
    {
     "data": {
      "image/png": "[encoded data removed]",
      "text/plain": [
       "<Figure size 432x288 with 1 Axes>"
      ]
     },
     "metadata": {
      "needs_background": "light"
     },
     "output_type": "display_data"
    }
   ],
   "source": [
    "sns.boxplot(x='fully_paid',y='fico',data=original)"
   ]
  },
  {
   "cell_type": "markdown",
   "id": "d0211edb",
   "metadata": {},
   "source": [
    "Fico score on average is slightly higher for those who have paid."
   ]
  },
  {
   "cell_type": "markdown",
   "id": "4c6f343f",
   "metadata": {},
   "source": [
    "### Detecting outliers"
   ]
  },
  {
   "cell_type": "code",
   "execution_count": 38,
   "id": "045cdf14",
   "metadata": {},
   "outputs": [
    {
     "data": {
      "text/plain": [
       "[]"
      ]
     },
     "execution_count": 38,
     "metadata": {},
     "output_type": "execute_result"
    }
   ],
   "source": [
    "stats = df.fico.describe()\n",
    "q1 = stats['25%']\n",
    "q3 = stats['75%']\n",
    "iqr = 2*(q3-q1)\n",
    "outliers = list(df[(df.fico < q1 - iqr)|(df.fico > q3 + iqr)].index)\n",
    "outliers"
   ]
  },
  {
   "cell_type": "markdown",
   "id": "7a312c9c",
   "metadata": {},
   "source": [
    "Using 2 iqr there appear to be no outliers"
   ]
  },
  {
   "cell_type": "markdown",
   "id": "535ae0bc",
   "metadata": {},
   "source": [
    "## days_with_cr_line\n",
    "The number of days a borrower has a credit line"
   ]
  },
  {
   "cell_type": "code",
   "execution_count": 39,
   "id": "9e08705c",
   "metadata": {},
   "outputs": [
    {
     "data": {
      "text/plain": [
       "<AxesSubplot:>"
      ]
     },
     "execution_count": 39,
     "metadata": {},
     "output_type": "execute_result"
    },
    {
     "data": {
      "image/png": "[encoded data removed]",
      "text/plain": [
       "<Figure size 432x288 with 1 Axes>"
      ]
     },
     "metadata": {
      "needs_background": "light"
     },
     "output_type": "display_data"
    }
   ],
   "source": [
    "original.days_with_cr_line.hist(bins=25)"
   ]
  },
  {
   "cell_type": "markdown",
   "id": "c6092614",
   "metadata": {},
   "source": [
    "The distribution is not normal.  It appears more like Poisson"
   ]
  },
  {
   "cell_type": "code",
   "execution_count": 40,
   "id": "14e3eb23",
   "metadata": {},
   "outputs": [
    {
     "data": {
      "text/plain": [
       "<AxesSubplot:xlabel='fully_paid', ylabel='days_with_cr_line'>"
      ]
     },
     "execution_count": 40,
     "metadata": {},
     "output_type": "execute_result"
    },
    {
     "data": {
      "image/png": "[encoded data removed]",
      "text/plain": [
       "<Figure size 432x288 with 1 Axes>"
      ]
     },
     "metadata": {
      "needs_background": "light"
     },
     "output_type": "display_data"
    }
   ],
   "source": [
    "sns.boxplot(x='fully_paid',y='days_with_cr_line',data=original)"
   ]
  },
  {
   "cell_type": "markdown",
   "id": "707094dd",
   "metadata": {},
   "source": [
    "There doesn't appear to be much difference between average days with credit line for those whom paid and those who didnt."
   ]
  },
  {
   "cell_type": "code",
   "execution_count": null,
   "id": "7d7cb52c",
   "metadata": {},
   "outputs": [],
   "source": [
    "# detecting outliers?"
   ]
  },
  {
   "cell_type": "markdown",
   "id": "8cb2fb67",
   "metadata": {},
   "source": [
    "## revol_bal\n",
    "\n",
    "The borrowers revolving balance at the end of the credit card cycle."
   ]
  },
  {
   "cell_type": "code",
   "execution_count": 41,
   "id": "6976e5ff",
   "metadata": {},
   "outputs": [
    {
     "data": {
      "text/plain": [
       "<AxesSubplot:>"
      ]
     },
     "execution_count": 41,
     "metadata": {},
     "output_type": "execute_result"
    },
    {
     "data": {
      "image/png": "[encoded data removed]",
      "text/plain": [
       "<Figure size 432x288 with 1 Axes>"
      ]
     },
     "metadata": {
      "needs_background": "light"
     },
     "output_type": "display_data"
    }
   ],
   "source": [
    "original.revol_bal.hist(bins=25)"
   ]
  },
  {
   "cell_type": "markdown",
   "id": "21ed3d6c",
   "metadata": {},
   "source": [
    "There definitely appear to be outliers"
   ]
  },
  {
   "cell_type": "markdown",
   "id": "b0b66fc3",
   "metadata": {},
   "source": [
    "### Outlier detection"
   ]
  },
  {
   "cell_type": "code",
   "execution_count": 42,
   "id": "39bee4b5",
   "metadata": {},
   "outputs": [
    {
     "data": {
      "text/plain": [
       "<AxesSubplot:>"
      ]
     },
     "execution_count": 42,
     "metadata": {},
     "output_type": "execute_result"
    },
    {
     "data": {
      "image/png": "[encoded data removed]",
      "text/plain": [
       "<Figure size 432x288 with 1 Axes>"
      ]
     },
     "metadata": {
      "needs_background": "light"
     },
     "output_type": "display_data"
    }
   ],
   "source": [
    "original[original.revol_bal < 200000].revol_bal.hist(bins=25)"
   ]
  },
  {
   "cell_type": "code",
   "execution_count": 43,
   "id": "16212f9a",
   "metadata": {},
   "outputs": [
    {
     "data": {
      "text/plain": [
       "[7987, 9042, 8034, 9149]"
      ]
     },
     "execution_count": 43,
     "metadata": {},
     "output_type": "execute_result"
    }
   ],
   "source": [
    "outliers = list(df[df.revol_bal > 400000].index)\n",
    "outliers"
   ]
  },
  {
   "cell_type": "code",
   "execution_count": 44,
   "id": "a504e665",
   "metadata": {},
   "outputs": [],
   "source": [
    "for o in outliers:\n",
    "    outlier_counts[o] = outlier_counts.get(o,0)+1"
   ]
  },
  {
   "cell_type": "code",
   "execution_count": 45,
   "id": "79c8633c",
   "metadata": {},
   "outputs": [
    {
     "data": {
      "text/plain": [
       "{9566: 1,\n",
       " 9549: 1,\n",
       " 7897: 1,\n",
       " 653: 1,\n",
       " 7822: 1,\n",
       " 7987: 1,\n",
       " 9042: 1,\n",
       " 8034: 1,\n",
       " 9149: 1}"
      ]
     },
     "execution_count": 45,
     "metadata": {},
     "output_type": "execute_result"
    }
   ],
   "source": [
    "outlier_counts"
   ]
  },
  {
   "cell_type": "code",
   "execution_count": 1,
   "id": "3041b667",
   "metadata": {},
   "outputs": [],
   "source": [
    "# forgot boxplot for this"
   ]
  },
  {
   "cell_type": "markdown",
   "id": "153d7f3a",
   "metadata": {},
   "source": [
    "## revol_util\n",
    "\n",
    "the amount of credit line used relative to the total credit available"
   ]
  },
  {
   "cell_type": "code",
   "execution_count": 47,
   "id": "f6731981",
   "metadata": {},
   "outputs": [
    {
     "data": {
      "text/plain": [
       "<AxesSubplot:>"
      ]
     },
     "execution_count": 47,
     "metadata": {},
     "output_type": "execute_result"
    },
    {
     "data": {
      "image/png": "[encoded data removed]",
      "text/plain": [
       "<Figure size 432x288 with 1 Axes>"
      ]
     },
     "metadata": {
      "needs_background": "light"
     },
     "output_type": "display_data"
    }
   ],
   "source": [
    "original.revol_util.hist(bins=25)"
   ]
  },
  {
   "cell_type": "markdown",
   "id": "8aa9c9fe",
   "metadata": {},
   "source": [
    "Not normal.  There does appear to be some with no money owed, as was also seen in revolving balance."
   ]
  },
  {
   "cell_type": "code",
   "execution_count": 48,
   "id": "30594d5a",
   "metadata": {},
   "outputs": [
    {
     "data": {
      "text/plain": [
       "297"
      ]
     },
     "execution_count": 48,
     "metadata": {},
     "output_type": "execute_result"
    }
   ],
   "source": [
    "original[original.revol_util==0].shape[0]"
   ]
  },
  {
   "cell_type": "code",
   "execution_count": 60,
   "id": "124811a0",
   "metadata": {},
   "outputs": [
    {
     "data": {
      "text/plain": [
       "<AxesSubplot:xlabel='fully_paid', ylabel='revol_util'>"
      ]
     },
     "execution_count": 60,
     "metadata": {},
     "output_type": "execute_result"
    },
    {
     "data": {
      "image/png": "[encoded data removed]",
      "text/plain": [
       "<Figure size 432x288 with 1 Axes>"
      ]
     },
     "metadata": {
      "needs_background": "light"
     },
     "output_type": "display_data"
    }
   ],
   "source": [
    "sns.boxplot(x='fully_paid',y='revol_util',data=original)"
   ]
  },
  {
   "cell_type": "markdown",
   "id": "9d05b0d7",
   "metadata": {},
   "source": [
    "Those that are not fully paid have a higher utilization rate.  No outliers seem appaent."
   ]
  },
  {
   "cell_type": "markdown",
   "id": "ed373762",
   "metadata": {},
   "source": [
    "## inq_last_6mths\n",
    "\n",
    "The borrowers number of inquries by creditors in the last six months"
   ]
  },
  {
   "cell_type": "code",
   "execution_count": 62,
   "id": "1408ff83",
   "metadata": {},
   "outputs": [
    {
     "data": {
      "text/plain": [
       "<AxesSubplot:>"
      ]
     },
     "execution_count": 62,
     "metadata": {},
     "output_type": "execute_result"
    },
    {
     "data": {
      "image/png": "[encoded data removed]",
      "text/plain": [
       "<Figure size 432x288 with 1 Axes>"
      ]
     },
     "metadata": {
      "needs_background": "light"
     },
     "output_type": "display_data"
    }
   ],
   "source": [
    "original.inq_last_6mths.hist(bins=25)"
   ]
  },
  {
   "cell_type": "code",
   "execution_count": 63,
   "id": "d5edf6e2",
   "metadata": {},
   "outputs": [
    {
     "data": {
      "text/plain": [
       "<AxesSubplot:xlabel='fully_paid', ylabel='inq_last_6mths'>"
      ]
     },
     "execution_count": 63,
     "metadata": {},
     "output_type": "execute_result"
    },
    {
     "data": {
      "image/png": "[encoded data removed]",
      "text/plain": [
       "<Figure size 432x288 with 1 Axes>"
      ]
     },
     "metadata": {
      "needs_background": "light"
     },
     "output_type": "display_data"
    }
   ],
   "source": [
    "sns.boxplot(x='fully_paid',y='inq_last_6mths',data=original)"
   ]
  },
  {
   "cell_type": "markdown",
   "id": "4c4d6dab",
   "metadata": {},
   "source": [
    "There is not too much difference between the number of inquiries for those paid and those not fully paid.  There are definite apparent outliers."
   ]
  },
  {
   "cell_type": "markdown",
   "id": "86f6ee67",
   "metadata": {},
   "source": [
    "### Detecting outliers"
   ]
  },
  {
   "cell_type": "code",
   "execution_count": 66,
   "id": "fe79c1c9",
   "metadata": {},
   "outputs": [
    {
     "data": {
      "text/plain": [
       "[8375, 8062, 7714, 8409, 8037, 8020]"
      ]
     },
     "execution_count": 66,
     "metadata": {},
     "output_type": "execute_result"
    }
   ],
   "source": [
    "outliers = list(df[df.inq_last_6mths>20].index)\n",
    "outliers"
   ]
  },
  {
   "cell_type": "code",
   "execution_count": 67,
   "id": "9d016f61",
   "metadata": {},
   "outputs": [
    {
     "data": {
      "text/plain": [
       "{9566: 1,\n",
       " 9549: 1,\n",
       " 7897: 1,\n",
       " 653: 1,\n",
       " 7822: 1,\n",
       " 7987: 1,\n",
       " 9042: 1,\n",
       " 8034: 1,\n",
       " 9149: 1,\n",
       " 8375: 1,\n",
       " 8062: 1,\n",
       " 7714: 1,\n",
       " 8409: 1,\n",
       " 8037: 1,\n",
       " 8020: 1}"
      ]
     },
     "execution_count": 67,
     "metadata": {},
     "output_type": "execute_result"
    }
   ],
   "source": [
    "for o in outliers:\n",
    "    outlier_counts[o] = outlier_counts.get(o,0)+1\n",
    "outlier_counts"
   ]
  },
  {
   "cell_type": "markdown",
   "id": "facaf5c1",
   "metadata": {},
   "source": [
    "## delinq_2yrs\n",
    "\n",
    "The number of times a borrower has been 30 days or more past due in the last two years"
   ]
  },
  {
   "cell_type": "code",
   "execution_count": 68,
   "id": "5e3b759a",
   "metadata": {},
   "outputs": [
    {
     "data": {
      "text/plain": [
       "<AxesSubplot:>"
      ]
     },
     "execution_count": 68,
     "metadata": {},
     "output_type": "execute_result"
    },
    {
     "data": {
      "image/png": "[encoded data removed]",
      "text/plain": [
       "<Figure size 432x288 with 1 Axes>"
      ]
     },
     "metadata": {
      "needs_background": "light"
     },
     "output_type": "display_data"
    }
   ],
   "source": [
    "original.delinq_2yrs.hist(bins=25)"
   ]
  },
  {
   "cell_type": "markdown",
   "id": "79814268",
   "metadata": {},
   "source": [
    "### Detecting outliers"
   ]
  },
  {
   "cell_type": "code",
   "execution_count": 75,
   "id": "7b36c322",
   "metadata": {},
   "outputs": [
    {
     "data": {
      "text/plain": [
       "[8234, 7789, 7952, 8118]"
      ]
     },
     "execution_count": 75,
     "metadata": {},
     "output_type": "execute_result"
    }
   ],
   "source": [
    "outliers = list(df[df.delinq_2yrs>=6].index)\n",
    "outliers"
   ]
  },
  {
   "cell_type": "code",
   "execution_count": 76,
   "id": "00ef0953",
   "metadata": {},
   "outputs": [
    {
     "data": {
      "text/plain": [
       "{9566: 1,\n",
       " 9549: 1,\n",
       " 7897: 1,\n",
       " 653: 1,\n",
       " 7822: 1,\n",
       " 7987: 1,\n",
       " 9042: 1,\n",
       " 8034: 1,\n",
       " 9149: 1,\n",
       " 8375: 1,\n",
       " 8062: 1,\n",
       " 7714: 1,\n",
       " 8409: 1,\n",
       " 8037: 1,\n",
       " 8020: 1,\n",
       " 8234: 1,\n",
       " 7789: 1,\n",
       " 7952: 1,\n",
       " 8118: 1}"
      ]
     },
     "execution_count": 76,
     "metadata": {},
     "output_type": "execute_result"
    }
   ],
   "source": [
    "for o in outliers:\n",
    "    outlier_counts[o] = outlier_counts.get(o,0)+1\n",
    "outlier_counts"
   ]
  },
  {
   "cell_type": "markdown",
   "id": "58e58065",
   "metadata": {},
   "source": [
    "## pub_rec\n",
    "\n",
    "The number of derogitory pulic records of the borrower"
   ]
  },
  {
   "cell_type": "code",
   "execution_count": 77,
   "id": "741af835",
   "metadata": {},
   "outputs": [
    {
     "data": {
      "text/plain": [
       "<AxesSubplot:>"
      ]
     },
     "execution_count": 77,
     "metadata": {},
     "output_type": "execute_result"
    },
    {
     "data": {
      "image/png": "[encoded data removed]",
      "text/plain": [
       "<Figure size 432x288 with 1 Axes>"
      ]
     },
     "metadata": {
      "needs_background": "light"
     },
     "output_type": "display_data"
    }
   ],
   "source": [
    "original.pub_rec.hist(bins=25)"
   ]
  },
  {
   "cell_type": "code",
   "execution_count": 80,
   "id": "a045746d",
   "metadata": {},
   "outputs": [
    {
     "data": {
      "text/plain": [
       "<AxesSubplot:xlabel='fully_paid', ylabel='pub_rec'>"
      ]
     },
     "execution_count": 80,
     "metadata": {},
     "output_type": "execute_result"
    },
    {
     "data": {
      "image/png": "[encoded data removed]",
      "text/plain": [
       "<Figure size 432x288 with 1 Axes>"
      ]
     },
     "metadata": {
      "needs_background": "light"
     },
     "output_type": "display_data"
    }
   ],
   "source": [
    "sns.boxplot(x='fully_paid',y='pub_rec',data=original)"
   ]
  },
  {
   "cell_type": "code",
   "execution_count": 79,
   "id": "a9a15730",
   "metadata": {},
   "outputs": [
    {
     "data": {
      "text/plain": [
       "Int64Index([7276, 8324], dtype='int64')"
      ]
     },
     "execution_count": 79,
     "metadata": {},
     "output_type": "execute_result"
    }
   ],
   "source": [
    "original[original.pub_rec>3].index"
   ]
  },
  {
   "cell_type": "markdown",
   "id": "c751403a",
   "metadata": {},
   "source": [
    "# Examining correlation"
   ]
  },
  {
   "cell_type": "code",
   "execution_count": 83,
   "id": "4c657382",
   "metadata": {},
   "outputs": [
    {
     "data": {
      "text/plain": [
       "<AxesSubplot:>"
      ]
     },
     "execution_count": 83,
     "metadata": {},
     "output_type": "execute_result"
    },
    {
     "data": {
      "image/png": "[encoded data removed]",
      "text/plain": [
       "<Figure size 432x288 with 2 Axes>"
      ]
     },
     "metadata": {
      "needs_background": "light"
     },
     "output_type": "display_data"
    }
   ],
   "source": [
    "loan_corr = original.select_dtypes(exclude='object').corr()\n",
    "sns.heatmap(loan_corr,square=True,annot=True)"
   ]
  },
  {
   "cell_type": "code",
   "execution_count": 84,
   "id": "1dd6326e",
   "metadata": {},
   "outputs": [
    {
     "data": {
      "text/plain": [
       "credit_policy        0.158119\n",
       "int_rate            -0.159552\n",
       "installment         -0.049955\n",
       "log_annual_inc       0.033439\n",
       "dti                 -0.037362\n",
       "fico                 0.149666\n",
       "days_with_cr_line    0.029237\n",
       "revol_bal           -0.053699\n",
       "revol_util          -0.082088\n",
       "inq_last_6mths      -0.149452\n",
       "delinq_2yrs         -0.008881\n",
       "pub_rec             -0.048634\n",
       "fully_paid           1.000000\n",
       "Name: fully_paid, dtype: float64"
      ]
     },
     "execution_count": 84,
     "metadata": {},
     "output_type": "execute_result"
    }
   ],
   "source": [
    "loan_corr['fully_paid']"
   ]
  },
  {
   "cell_type": "markdown",
   "id": "2b1eac54",
   "metadata": {},
   "source": [
    "# Using PCA to visualize"
   ]
  },
  {
   "cell_type": "code",
   "execution_count": 92,
   "id": "03a08f43",
   "metadata": {},
   "outputs": [
    {
     "data": {
      "text/plain": [
       "<AxesSubplot:xlabel='x', ylabel='y'>"
      ]
     },
     "execution_count": 92,
     "metadata": {},
     "output_type": "execute_result"
    },
    {
     "data": {
      "image/png": "[encoded data removed]",
      "text/plain": [
       "<Figure size 432x288 with 1 Axes>"
      ]
     },
     "metadata": {
      "needs_background": "light"
     },
     "output_type": "display_data"
    }
   ],
   "source": [
    "df2=pd.get_dummies(original)\n",
    "df2.drop('fully_paid',axis=1,inplace=True)\n",
    "scaler = MinMaxScaler()\n",
    "X = scaler.fit_transform(df2.values)\n",
    "pca = PCA(n_components=2)\n",
    "df2 = pd.DataFrame(pca.fit_transform(X),columns = ['x','y'])\n",
    "df2['fully_paid']=original['fully_paid']\n",
    "sns.scatterplot(x='x',y='y',hue='fully_paid',data=df2)\n"
   ]
  },
  {
   "cell_type": "markdown",
   "id": "ffce7757",
   "metadata": {},
   "source": [
    "From a 3d view, there are definitely clusters.  Knn or SVM may be good for this.  As there is no apparent linear boundary, logistic regression, or any tree algorithms may not be suitable."
   ]
  }
 ],
 "metadata": {
  "kernelspec": {
   "display_name": "Python 3",
   "language": "python",
   "name": "python3"
  },
  "language_info": {
   "codemirror_mode": {
    "name": "ipython",
    "version": 3
   },
   "file_extension": ".py",
   "mimetype": "text/x-python",
   "name": "python",
   "nbconvert_exporter": "python",
   "pygments_lexer": "ipython3",
   "version": "3.9.5"
  }
 },
 "nbformat": 4,
 "nbformat_minor": 5
}
