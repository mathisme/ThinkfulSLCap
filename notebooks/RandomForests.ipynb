{
 "cells": [
  {
   "cell_type": "code",
   "execution_count": 1,
   "id": "394d14a8",
   "metadata": {},
   "outputs": [],
   "source": [
    "import numpy as np\n",
    "import pandas as pd\n",
    "import matplotlib.pyplot as plt\n",
    "from sklearn.ensemble import RandomForestClassifier\n",
    "from sklearn.model_selection import train_test_split, GridSearchCV, cross_validate\n",
    "from sklearn.preprocessing import LabelEncoder\n",
    "from sklearn.metrics import (precision_recall_fscore_support, plot_confusion_matrix, plot_precision_recall_curve,\n",
    "                             confusion_matrix,precision_recall_curve, ConfusionMatrixDisplay, PrecisionRecallDisplay)\n",
    "from imblearn.pipeline import Pipeline as imbPipeline\n",
    "from imblearn.under_sampling import RandomUnderSampler\n",
    "from imblearn.over_sampling import RandomOverSampler\n",
    "import seaborn as sns"
   ]
  },
  {
   "cell_type": "code",
   "execution_count": 2,
   "id": "9cb36d76",
   "metadata": {},
   "outputs": [],
   "source": [
    "df = pd.read_csv('../data/loan_data.csv')"
   ]
  },
  {
   "cell_type": "code",
   "execution_count": 3,
   "id": "8f3c67c3",
   "metadata": {},
   "outputs": [
    {
     "data": {
      "text/plain": [
       "Index(['credit_policy', 'purpose', 'int_rate', 'installment', 'log_annual_inc',\n",
       "       'dti', 'fico', 'days_with_cr_line', 'revol_bal', 'revol_util',\n",
       "       'inq_last_6mths', 'delinq_2yrs', 'pub_rec', 'not_fully_paid'],\n",
       "      dtype='object')"
      ]
     },
     "execution_count": 3,
     "metadata": {},
     "output_type": "execute_result"
    }
   ],
   "source": [
    "df.columns = [x.replace('.','_') for x in df.columns]\n",
    "df.columns"
   ]
  },
  {
   "cell_type": "code",
   "execution_count": 4,
   "id": "73a547c3",
   "metadata": {},
   "outputs": [],
   "source": [
    "df['fully_paid'] = 1 - df.not_fully_paid\n",
    "df.drop('not_fully_paid', axis=1, inplace=True)"
   ]
  },
  {
   "cell_type": "code",
   "execution_count": 5,
   "id": "81c40659",
   "metadata": {},
   "outputs": [],
   "source": [
    "def get_preds(classifier, X_test, y_test, threshold):\n",
    "    y_preds = classifier.predict_proba(X_test)\n",
    "    y_preds = y_preds[:,1]\n",
    "    y_preds = 1 * (y_preds > threshold)\n",
    "    return y_preds   "
   ]
  },
  {
   "cell_type": "code",
   "execution_count": 6,
   "id": "ba9d14af",
   "metadata": {},
   "outputs": [],
   "source": [
    "def find_threshold(estimator, X_train, y_train, scoring='f1'):\n",
    "    best_thresholds=[0]*5\n",
    "    scores = cross_validate(estimator, X_train, y_train, scoring = scoring, return_estimator=True)\n",
    "    for i in range(5):\n",
    "        estimator_i = scores['estimator'][i]\n",
    "        yhat = estimator_i.predict_proba(X_train)\n",
    "        yhat = yhat[:,1]\n",
    "        precision, recall, thresholds = precision_recall_curve(y_train,yhat)\n",
    "        fscores = 2*precision*recall/(precision+recall)\n",
    "        ix = np.argmax(fscores)\n",
    "        best_thresholds[i] = thresholds[ix]\n",
    "    return np.mean(best_thresholds)"
   ]
  },
  {
   "cell_type": "code",
   "execution_count": 7,
   "id": "b58f5cbc",
   "metadata": {},
   "outputs": [],
   "source": [
    "def print_accuracy_results(y_true, y_preds):\n",
    "    correct_classification = 1 - np.absolute(y_true - y_preds)\n",
    "    scoring_df = pd.DataFrame({'y_values': y_true, 'correct_classification': correct_classification})\n",
    "    zeros = scoring_df[scoring_df.y_values == 0]\n",
    "    ones = scoring_df[scoring_df.y_values == 1]\n",
    "    print(\"The percentage of fully_paid predicted correctly: \",100*ones.correct_classification.sum()/ones.shape[0])\n",
    "    print(\"The percentage of not fully_paid predicted correctly: \",100*zeros.correct_classification.sum()/zeros.shape[0])"
   ]
  },
  {
   "cell_type": "code",
   "execution_count": 8,
   "id": "af32d330",
   "metadata": {},
   "outputs": [],
   "source": [
    "def print_scores(classifier, X_test, y_test, threshold=None, beta=1.0):\n",
    "    if threshold is None:\n",
    "        y_preds = classifier.predict(X_test)\n",
    "    else:\n",
    "        y_preds = get_preds(classifier, X_test, y_test, threshold)\n",
    "        \n",
    "    scores = precision_recall_fscore_support(y_preds, y_test, beta=beta, average='binary')\n",
    "    print(\"precision score: \",scores[0])\n",
    "    print(\"recall score: \", scores[1])\n",
    "    print(\"f1 score: \", scores[2])\n",
    "    print('-'*50)\n",
    "    print_accuracy_results(y_test, y_preds)"
   ]
  },
  {
   "cell_type": "markdown",
   "id": "7bfabc2b",
   "metadata": {},
   "source": [
    "# Ordinal encoding the categorical"
   ]
  },
  {
   "cell_type": "code",
   "execution_count": 9,
   "id": "43a0b0b2",
   "metadata": {},
   "outputs": [],
   "source": [
    "X = df.drop('fully_paid', axis = 1)\n",
    "y = df.fully_paid"
   ]
  },
  {
   "cell_type": "code",
   "execution_count": 10,
   "id": "31ea7278",
   "metadata": {},
   "outputs": [],
   "source": [
    "le = LabelEncoder()"
   ]
  },
  {
   "cell_type": "code",
   "execution_count": 11,
   "id": "f287d892",
   "metadata": {},
   "outputs": [],
   "source": [
    "X['purpose'] = le.fit_transform(X.purpose.values)"
   ]
  },
  {
   "cell_type": "markdown",
   "id": "764e0470",
   "metadata": {},
   "source": [
    "# Splitting the data"
   ]
  },
  {
   "cell_type": "code",
   "execution_count": 12,
   "id": "a0820958",
   "metadata": {},
   "outputs": [],
   "source": [
    "X_train, X_test, y_train, y_test = train_test_split(X, y, random_state=675, test_size=0.2)"
   ]
  },
  {
   "cell_type": "markdown",
   "id": "affcdc6e",
   "metadata": {},
   "source": [
    "# Base Model"
   ]
  },
  {
   "cell_type": "code",
   "execution_count": 13,
   "id": "00716938",
   "metadata": {},
   "outputs": [],
   "source": [
    "rf1 = RandomForestClassifier()"
   ]
  },
  {
   "cell_type": "code",
   "execution_count": 14,
   "id": "177792b9",
   "metadata": {},
   "outputs": [
    {
     "data": {
      "text/plain": [
       "RandomForestClassifier()"
      ]
     },
     "execution_count": 14,
     "metadata": {},
     "output_type": "execute_result"
    }
   ],
   "source": [
    "rf1.fit(X_train,y_train)"
   ]
  },
  {
   "cell_type": "code",
   "execution_count": 15,
   "id": "b6a84a17",
   "metadata": {},
   "outputs": [
    {
     "name": "stdout",
     "output_type": "stream",
     "text": [
      "precision score:  0.9913419913419913\n",
      "recall score:  0.8481481481481481\n",
      "f1 score:  0.9141716566866266\n",
      "--------------------------------------------------\n",
      "The percentage of fully_paid predicted correctly:  99.13419913419914\n",
      "The percentage of not fully_paid predicted correctly:  4.013377926421405\n"
     ]
    }
   ],
   "source": [
    "print_scores(rf1, X_test, y_test)"
   ]
  },
  {
   "cell_type": "code",
   "execution_count": 16,
   "id": "8742ffc8",
   "metadata": {},
   "outputs": [
    {
     "data": {
      "text/plain": [
       "<sklearn.metrics._plot.confusion_matrix.ConfusionMatrixDisplay at 0x1f8fe0aec70>"
      ]
     },
     "execution_count": 16,
     "metadata": {},
     "output_type": "execute_result"
    },
    {
     "data": {
      "image/png": "[encoded data removed]",
      "text/plain": [
       "<Figure size 432x288 with 2 Axes>"
      ]
     },
     "metadata": {
      "needs_background": "light"
     },
     "output_type": "display_data"
    }
   ],
   "source": [
    "plot_confusion_matrix(rf1 ,X_test, y_test)"
   ]
  },
  {
   "cell_type": "code",
   "execution_count": 17,
   "id": "40cd748b",
   "metadata": {},
   "outputs": [
    {
     "data": {
      "text/plain": [
       "<sklearn.metrics._plot.precision_recall_curve.PrecisionRecallDisplay at 0x1f89f9f2a30>"
      ]
     },
     "execution_count": 17,
     "metadata": {},
     "output_type": "execute_result"
    },
    {
     "data": {
      "image/png": "[encoded data removed]",
      "text/plain": [
       "<Figure size 432x288 with 1 Axes>"
      ]
     },
     "metadata": {
      "needs_background": "light"
     },
     "output_type": "display_data"
    }
   ],
   "source": [
    "plot_precision_recall_curve(rf1 ,X_test, y_test)"
   ]
  },
  {
   "cell_type": "code",
   "execution_count": 18,
   "id": "5089a179",
   "metadata": {},
   "outputs": [
    {
     "data": {
      "text/plain": [
       "array([0.01618705, 0.0433665 , 0.10608894, 0.11590512, 0.1096964 ,\n",
       "       0.10980972, 0.07818872, 0.1130814 , 0.11260864, 0.11651578,\n",
       "       0.05513505, 0.01417022, 0.00924647])"
      ]
     },
     "execution_count": 18,
     "metadata": {},
     "output_type": "execute_result"
    }
   ],
   "source": [
    "rf1.feature_importances_"
   ]
  },
  {
   "cell_type": "code",
   "execution_count": 19,
   "id": "4bc7f82e",
   "metadata": {},
   "outputs": [
    {
     "data": {
      "text/plain": [
       "<AxesSubplot:>"
      ]
     },
     "execution_count": 19,
     "metadata": {},
     "output_type": "execute_result"
    },
    {
     "data": {
      "image/png": "[encoded data removed]",
      "text/plain": [
       "<Figure size 1080x432 with 1 Axes>"
      ]
     },
     "metadata": {
      "needs_background": "light"
     },
     "output_type": "display_data"
    }
   ],
   "source": [
    "f = plt.figure(figsize=(15,6))\n",
    "sns.barplot(x=X.columns, y=rf1.feature_importances_)"
   ]
  },
  {
   "cell_type": "markdown",
   "id": "da336479",
   "metadata": {},
   "source": [
    "# Using balanced weights"
   ]
  },
  {
   "cell_type": "code",
   "execution_count": 20,
   "id": "a2235263",
   "metadata": {},
   "outputs": [],
   "source": [
    "rf2 = RandomForestClassifier(class_weight='balanced')"
   ]
  },
  {
   "cell_type": "code",
   "execution_count": 21,
   "id": "06a95003",
   "metadata": {},
   "outputs": [
    {
     "data": {
      "text/plain": [
       "RandomForestClassifier(class_weight='balanced')"
      ]
     },
     "execution_count": 21,
     "metadata": {},
     "output_type": "execute_result"
    }
   ],
   "source": [
    "rf2.fit(X_train,y_train)"
   ]
  },
  {
   "cell_type": "code",
   "execution_count": 22,
   "id": "b3fca7be",
   "metadata": {},
   "outputs": [
    {
     "name": "stdout",
     "output_type": "stream",
     "text": [
      "precision score:  0.9950525664811379\n",
      "recall score:  0.8446194225721785\n",
      "f1 score:  0.9136854060193071\n",
      "--------------------------------------------------\n",
      "The percentage of fully_paid predicted correctly:  99.50525664811379\n",
      "The percentage of not fully_paid predicted correctly:  1.0033444816053512\n"
     ]
    }
   ],
   "source": [
    "print_scores(rf2, X_test, y_test)"
   ]
  },
  {
   "cell_type": "code",
   "execution_count": 23,
   "id": "2fb9de10",
   "metadata": {},
   "outputs": [
    {
     "data": {
      "text/plain": [
       "<sklearn.metrics._plot.confusion_matrix.ConfusionMatrixDisplay at 0x1f89fa103a0>"
      ]
     },
     "execution_count": 23,
     "metadata": {},
     "output_type": "execute_result"
    },
    {
     "data": {
      "image/png": "[encoded data removed]",
      "text/plain": [
       "<Figure size 432x288 with 2 Axes>"
      ]
     },
     "metadata": {
      "needs_background": "light"
     },
     "output_type": "display_data"
    }
   ],
   "source": [
    "plot_confusion_matrix(rf2 ,X_test, y_test)"
   ]
  },
  {
   "cell_type": "code",
   "execution_count": 24,
   "id": "06c387dc",
   "metadata": {},
   "outputs": [
    {
     "data": {
      "text/plain": [
       "<sklearn.metrics._plot.precision_recall_curve.PrecisionRecallDisplay at 0x1f8a2eff940>"
      ]
     },
     "execution_count": 24,
     "metadata": {},
     "output_type": "execute_result"
    },
    {
     "data": {
      "image/png": "[encoded data removed]",
      "text/plain": [
       "<Figure size 432x288 with 1 Axes>"
      ]
     },
     "metadata": {
      "needs_background": "light"
     },
     "output_type": "display_data"
    }
   ],
   "source": [
    "plot_precision_recall_curve(rf2 ,X_test, y_test)"
   ]
  },
  {
   "cell_type": "markdown",
   "id": "1bed6911",
   "metadata": {},
   "source": [
    "Using class weights, balanced made the random forest worse"
   ]
  },
  {
   "cell_type": "markdown",
   "id": "bf073870",
   "metadata": {},
   "source": [
    "# Improving the balanced weights model with hyperparameter tuning"
   ]
  },
  {
   "cell_type": "code",
   "execution_count": 25,
   "id": "ab7f1dd1",
   "metadata": {},
   "outputs": [],
   "source": [
    "rf3 = RandomForestClassifier()\n",
    "params = {\n",
    "    'criterion':['entropy','gini'],\n",
    "    'max_depth':[3,4,7],\n",
    "    'class_weight':['balanced','balanced_subsample']\n",
    "}"
   ]
  },
  {
   "cell_type": "code",
   "execution_count": 26,
   "id": "2bac5254",
   "metadata": {},
   "outputs": [],
   "source": [
    "grid = GridSearchCV(rf3,params,scoring='f1')"
   ]
  },
  {
   "cell_type": "code",
   "execution_count": 27,
   "id": "cb66ca90",
   "metadata": {},
   "outputs": [
    {
     "data": {
      "text/plain": [
       "GridSearchCV(estimator=RandomForestClassifier(),\n",
       "             param_grid={'class_weight': ['balanced', 'balanced_subsample'],\n",
       "                         'criterion': ['entropy', 'gini'],\n",
       "                         'max_depth': [3, 4, 7]},\n",
       "             scoring='f1')"
      ]
     },
     "execution_count": 27,
     "metadata": {},
     "output_type": "execute_result"
    }
   ],
   "source": [
    "grid.fit(X_train,y_train)"
   ]
  },
  {
   "cell_type": "code",
   "execution_count": 28,
   "id": "e71f4163",
   "metadata": {},
   "outputs": [
    {
     "data": {
      "text/plain": [
       "0.8153904969959139"
      ]
     },
     "execution_count": 28,
     "metadata": {},
     "output_type": "execute_result"
    }
   ],
   "source": [
    "grid.best_score_"
   ]
  },
  {
   "cell_type": "code",
   "execution_count": 29,
   "id": "5dc406ec",
   "metadata": {},
   "outputs": [
    {
     "data": {
      "text/plain": [
       "{'class_weight': 'balanced_subsample', 'criterion': 'gini', 'max_depth': 7}"
      ]
     },
     "execution_count": 29,
     "metadata": {},
     "output_type": "execute_result"
    }
   ],
   "source": [
    "grid.best_params_"
   ]
  },
  {
   "cell_type": "code",
   "execution_count": 30,
   "id": "8a18afc2",
   "metadata": {},
   "outputs": [
    {
     "name": "stdout",
     "output_type": "stream",
     "text": [
      "precision score:  0.7346938775510204\n",
      "recall score:  0.8754605747973471\n",
      "f1 score:  0.7989240080699395\n",
      "--------------------------------------------------\n",
      "The percentage of fully_paid predicted correctly:  73.46938775510205\n",
      "The percentage of not fully_paid predicted correctly:  43.47826086956522\n"
     ]
    }
   ],
   "source": [
    "print_scores(grid.best_estimator_, X_test, y_test)"
   ]
  },
  {
   "cell_type": "code",
   "execution_count": 31,
   "id": "61cf814f",
   "metadata": {},
   "outputs": [
    {
     "data": {
      "text/plain": [
       "<sklearn.metrics._plot.confusion_matrix.ConfusionMatrixDisplay at 0x1f8a2dd92b0>"
      ]
     },
     "execution_count": 31,
     "metadata": {},
     "output_type": "execute_result"
    },
    {
     "data": {
      "image/png": "[encoded data removed]",
      "text/plain": [
       "<Figure size 432x288 with 2 Axes>"
      ]
     },
     "metadata": {
      "needs_background": "light"
     },
     "output_type": "display_data"
    }
   ],
   "source": [
    "plot_confusion_matrix(grid.best_estimator_ ,X_test, y_test)"
   ]
  },
  {
   "cell_type": "code",
   "execution_count": 32,
   "id": "187959f8",
   "metadata": {},
   "outputs": [
    {
     "data": {
      "text/plain": [
       "<sklearn.metrics._plot.precision_recall_curve.PrecisionRecallDisplay at 0x1f8a2e5ab50>"
      ]
     },
     "execution_count": 32,
     "metadata": {},
     "output_type": "execute_result"
    },
    {
     "data": {
      "image/png": "[encoded data removed]",
      "text/plain": [
       "<Figure size 432x288 with 1 Axes>"
      ]
     },
     "metadata": {
      "needs_background": "light"
     },
     "output_type": "display_data"
    }
   ],
   "source": [
    "plot_precision_recall_curve(grid.best_estimator_ ,X_test, y_test)"
   ]
  },
  {
   "cell_type": "markdown",
   "id": "3f124c7e",
   "metadata": {},
   "source": [
    "# Improving the base model by moving the treshold"
   ]
  },
  {
   "cell_type": "code",
   "execution_count": 33,
   "id": "e9708581",
   "metadata": {},
   "outputs": [
    {
     "data": {
      "text/plain": [
       "0.5199999999999999"
      ]
     },
     "execution_count": 33,
     "metadata": {},
     "output_type": "execute_result"
    }
   ],
   "source": [
    "rf_t = find_threshold(rf1, X_train, y_train)\n",
    "rf_t"
   ]
  },
  {
   "cell_type": "code",
   "execution_count": 34,
   "id": "e77d2a09",
   "metadata": {},
   "outputs": [
    {
     "name": "stdout",
     "output_type": "stream",
     "text": [
      "precision score:  0.7755102040816326\n",
      "recall score:  0.8738675958188153\n",
      "f1 score:  0.8217562254259503\n",
      "--------------------------------------------------\n",
      "The percentage of fully_paid predicted correctly:  77.55102040816327\n",
      "The percentage of not fully_paid predicted correctly:  39.46488294314381\n"
     ]
    }
   ],
   "source": [
    "print_scores(rf1, X_test, y_test, threshold=0.75)"
   ]
  },
  {
   "cell_type": "code",
   "execution_count": 35,
   "id": "5e0d44fc",
   "metadata": {},
   "outputs": [
    {
     "data": {
      "text/plain": [
       "<sklearn.metrics._plot.confusion_matrix.ConfusionMatrixDisplay at 0x1f8a2b08f40>"
      ]
     },
     "execution_count": 35,
     "metadata": {},
     "output_type": "execute_result"
    },
    {
     "data": {
      "image/png": "[encoded data removed]",
      "text/plain": [
       "<Figure size 432x288 with 2 Axes>"
      ]
     },
     "metadata": {
      "needs_background": "light"
     },
     "output_type": "display_data"
    }
   ],
   "source": [
    "y_preds = get_preds(rf1, X_test, y_test, threshold=0.75)\n",
    "rf1_cm = confusion_matrix(y_test, y_preds)\n",
    "cm_disp = ConfusionMatrixDisplay(rf1_cm, display_labels=rf1.classes_)\n",
    "cm_disp.plot()"
   ]
  },
  {
   "cell_type": "code",
   "execution_count": 36,
   "id": "0d79728a",
   "metadata": {},
   "outputs": [
    {
     "data": {
      "text/plain": [
       "<sklearn.metrics._plot.precision_recall_curve.PrecisionRecallDisplay at 0x1f8a504f9d0>"
      ]
     },
     "execution_count": 36,
     "metadata": {},
     "output_type": "execute_result"
    },
    {
     "data": {
      "image/png": "[encoded data removed]",
      "text/plain": [
       "<Figure size 432x288 with 1 Axes>"
      ]
     },
     "metadata": {
      "needs_background": "light"
     },
     "output_type": "display_data"
    }
   ],
   "source": [
    "precision, recall, _ = precision_recall_curve(y_test, y_preds)\n",
    "pr_disp = PrecisionRecallDisplay(precision=precision, recall=recall)\n",
    "pr_disp.plot()"
   ]
  },
  {
   "cell_type": "markdown",
   "id": "967ccb0c",
   "metadata": {},
   "source": [
    "# Improving the base model with undersampling"
   ]
  },
  {
   "cell_type": "code",
   "execution_count": 37,
   "id": "07c468ae",
   "metadata": {},
   "outputs": [],
   "source": [
    "rf4 = imbPipeline(steps =[\n",
    "    ('sampler',RandomUnderSampler(random_state=625)),\n",
    "    ('rf_classifier', RandomForestClassifier())])"
   ]
  },
  {
   "cell_type": "code",
   "execution_count": 38,
   "id": "994e281a",
   "metadata": {},
   "outputs": [
    {
     "data": {
      "text/plain": [
       "Pipeline(steps=[('sampler', RandomUnderSampler(random_state=625)),\n",
       "                ('rf_classifier', RandomForestClassifier())])"
      ]
     },
     "execution_count": 38,
     "metadata": {},
     "output_type": "execute_result"
    }
   ],
   "source": [
    "rf4.fit(X_train,y_train)"
   ]
  },
  {
   "cell_type": "code",
   "execution_count": 39,
   "id": "8ad12574",
   "metadata": {},
   "outputs": [
    {
     "name": "stdout",
     "output_type": "stream",
     "text": [
      "precision score:  0.577612863327149\n",
      "recall score:  0.8895238095238095\n",
      "f1 score:  0.7004124484439445\n",
      "--------------------------------------------------\n",
      "The percentage of fully_paid predicted correctly:  57.7612863327149\n",
      "The percentage of not fully_paid predicted correctly:  61.20401337792642\n"
     ]
    }
   ],
   "source": [
    "print_scores(rf4,X_test,y_test)"
   ]
  },
  {
   "cell_type": "code",
   "execution_count": 40,
   "id": "378fc029",
   "metadata": {},
   "outputs": [
    {
     "data": {
      "text/plain": [
       "<sklearn.metrics._plot.confusion_matrix.ConfusionMatrixDisplay at 0x1f8a9090dc0>"
      ]
     },
     "execution_count": 40,
     "metadata": {},
     "output_type": "execute_result"
    },
    {
     "data": {
      "image/png": "[encoded data removed]",
      "text/plain": [
       "<Figure size 432x288 with 2 Axes>"
      ]
     },
     "metadata": {
      "needs_background": "light"
     },
     "output_type": "display_data"
    }
   ],
   "source": [
    "plot_confusion_matrix(rf4, X_test, y_test)"
   ]
  },
  {
   "cell_type": "code",
   "execution_count": 41,
   "id": "de9db523",
   "metadata": {},
   "outputs": [
    {
     "data": {
      "text/plain": [
       "<sklearn.metrics._plot.precision_recall_curve.PrecisionRecallDisplay at 0x1f8a2ce6e20>"
      ]
     },
     "execution_count": 41,
     "metadata": {},
     "output_type": "execute_result"
    },
    {
     "data": {
      "image/png": "[encoded data removed]",
      "text/plain": [
       "<Figure size 432x288 with 1 Axes>"
      ]
     },
     "metadata": {
      "needs_background": "light"
     },
     "output_type": "display_data"
    }
   ],
   "source": [
    "plot_precision_recall_curve(rf4 ,X_test, y_test)"
   ]
  },
  {
   "cell_type": "markdown",
   "id": "a4f4f857",
   "metadata": {},
   "source": [
    "# Improving the base model with undersampling and hyperparameter tuning"
   ]
  },
  {
   "cell_type": "code",
   "execution_count": 42,
   "id": "50ea1aef",
   "metadata": {},
   "outputs": [],
   "source": [
    "params_imb = {\n",
    "    'rf_classifier__criterion':['entropy','gini'],\n",
    "    'rf_classifier__max_depth':[3,4,7,10],\n",
    "    'rf_classifier__class_weight':['balanced','balanced_subsample',None]\n",
    "}"
   ]
  },
  {
   "cell_type": "code",
   "execution_count": 43,
   "id": "4325be91",
   "metadata": {},
   "outputs": [
    {
     "data": {
      "text/plain": [
       "{'rf_classifier__class_weight': 'balanced',\n",
       " 'rf_classifier__criterion': 'gini',\n",
       " 'rf_classifier__max_depth': 3}"
      ]
     },
     "execution_count": 43,
     "metadata": {},
     "output_type": "execute_result"
    }
   ],
   "source": [
    "grid2 = GridSearchCV(rf4,params_imb,scoring='f1')\n",
    "grid2.fit(X_train,y_train)\n",
    "grid2.best_params_"
   ]
  },
  {
   "cell_type": "code",
   "execution_count": 44,
   "id": "e393b655",
   "metadata": {},
   "outputs": [
    {
     "data": {
      "text/plain": [
       "0.7598375242643055"
      ]
     },
     "execution_count": 44,
     "metadata": {},
     "output_type": "execute_result"
    }
   ],
   "source": [
    "grid2.best_score_"
   ]
  },
  {
   "cell_type": "code",
   "execution_count": 45,
   "id": "f9db66e1",
   "metadata": {},
   "outputs": [
    {
     "name": "stdout",
     "output_type": "stream",
     "text": [
      "precision score:  0.642547928262214\n",
      "recall score:  0.8827527612574342\n",
      "f1 score:  0.7437365783822477\n",
      "--------------------------------------------------\n",
      "The percentage of fully_paid predicted correctly:  64.2547928262214\n",
      "The percentage of not fully_paid predicted correctly:  53.84615384615385\n"
     ]
    }
   ],
   "source": [
    "print_scores(grid2.best_estimator_, X_test, y_test)"
   ]
  },
  {
   "cell_type": "code",
   "execution_count": 46,
   "id": "fd83e741",
   "metadata": {},
   "outputs": [
    {
     "data": {
      "text/plain": [
       "<sklearn.metrics._plot.confusion_matrix.ConfusionMatrixDisplay at 0x1f8a9209700>"
      ]
     },
     "execution_count": 46,
     "metadata": {},
     "output_type": "execute_result"
    },
    {
     "data": {
      "image/png": "[encoded data removed]",
      "text/plain": [
       "<Figure size 432x288 with 2 Axes>"
      ]
     },
     "metadata": {
      "needs_background": "light"
     },
     "output_type": "display_data"
    }
   ],
   "source": [
    "plot_confusion_matrix(grid2.best_estimator_, X_test, y_test)"
   ]
  },
  {
   "cell_type": "code",
   "execution_count": 47,
   "id": "9998d999",
   "metadata": {},
   "outputs": [
    {
     "data": {
      "text/plain": [
       "<sklearn.metrics._plot.precision_recall_curve.PrecisionRecallDisplay at 0x1f8a91b74c0>"
      ]
     },
     "execution_count": 47,
     "metadata": {},
     "output_type": "execute_result"
    },
    {
     "data": {
      "image/png": "[encoded data removed]",
      "text/plain": [
       "<Figure size 432x288 with 1 Axes>"
      ]
     },
     "metadata": {
      "needs_background": "light"
     },
     "output_type": "display_data"
    }
   ],
   "source": [
    "plot_precision_recall_curve(grid2.best_estimator_ ,X_test, y_test)"
   ]
  },
  {
   "cell_type": "markdown",
   "id": "2cd58473",
   "metadata": {},
   "source": [
    "This isn't any better than using the balanced class weights and hyperparameter tuning"
   ]
  },
  {
   "cell_type": "markdown",
   "id": "a40da49b",
   "metadata": {},
   "source": [
    "# Improving the base model with random oversampling"
   ]
  },
  {
   "cell_type": "code",
   "execution_count": 48,
   "id": "f823eac7",
   "metadata": {},
   "outputs": [],
   "source": [
    "rf5 = imbPipeline(steps =[\n",
    "    ('sampler',RandomOverSampler(random_state=625)),\n",
    "    ('rf_classifier', RandomForestClassifier())])"
   ]
  },
  {
   "cell_type": "code",
   "execution_count": 49,
   "id": "a011dd61",
   "metadata": {},
   "outputs": [
    {
     "data": {
      "text/plain": [
       "Pipeline(steps=[('sampler', RandomOverSampler(random_state=625)),\n",
       "                ('rf_classifier', RandomForestClassifier())])"
      ]
     },
     "execution_count": 49,
     "metadata": {},
     "output_type": "execute_result"
    }
   ],
   "source": [
    "rf5.fit(X_train,y_train)"
   ]
  },
  {
   "cell_type": "code",
   "execution_count": 50,
   "id": "12260950",
   "metadata": {},
   "outputs": [
    {
     "name": "stdout",
     "output_type": "stream",
     "text": [
      "precision score:  0.9672232529375386\n",
      "recall score:  0.8486163863266414\n",
      "f1 score:  0.9040462427745665\n",
      "--------------------------------------------------\n",
      "The percentage of fully_paid predicted correctly:  96.72232529375387\n",
      "The percentage of not fully_paid predicted correctly:  6.688963210702341\n"
     ]
    }
   ],
   "source": [
    "print_scores(rf5, X_test,y_test)"
   ]
  },
  {
   "cell_type": "code",
   "execution_count": 51,
   "id": "619924aa",
   "metadata": {},
   "outputs": [
    {
     "data": {
      "text/plain": [
       "<sklearn.metrics._plot.confusion_matrix.ConfusionMatrixDisplay at 0x1f8a91ef580>"
      ]
     },
     "execution_count": 51,
     "metadata": {},
     "output_type": "execute_result"
    },
    {
     "data": {
      "image/png": "[encoded data removed]",
      "text/plain": [
       "<Figure size 432x288 with 2 Axes>"
      ]
     },
     "metadata": {
      "needs_background": "light"
     },
     "output_type": "display_data"
    }
   ],
   "source": [
    "plot_confusion_matrix(rf5, X_test, y_test)"
   ]
  },
  {
   "cell_type": "code",
   "execution_count": 52,
   "id": "ea90420c",
   "metadata": {},
   "outputs": [
    {
     "data": {
      "text/plain": [
       "<sklearn.metrics._plot.precision_recall_curve.PrecisionRecallDisplay at 0x1f8a91a2bb0>"
      ]
     },
     "execution_count": 52,
     "metadata": {},
     "output_type": "execute_result"
    },
    {
     "data": {
      "image/png": "[encoded data removed]",
      "text/plain": [
       "<Figure size 432x288 with 1 Axes>"
      ]
     },
     "metadata": {
      "needs_background": "light"
     },
     "output_type": "display_data"
    }
   ],
   "source": [
    "plot_precision_recall_curve(rf5 ,X_test, y_test)"
   ]
  },
  {
   "cell_type": "markdown",
   "id": "0d855ed1",
   "metadata": {},
   "source": [
    "# Improving the base model with random oversampling and hyperparameter tuning"
   ]
  },
  {
   "cell_type": "code",
   "execution_count": 53,
   "id": "94e37c98",
   "metadata": {},
   "outputs": [
    {
     "data": {
      "text/plain": [
       "{'rf_classifier__class_weight': 'balanced_subsample',\n",
       " 'rf_classifier__criterion': 'gini',\n",
       " 'rf_classifier__max_depth': 10}"
      ]
     },
     "execution_count": 53,
     "metadata": {},
     "output_type": "execute_result"
    }
   ],
   "source": [
    "grid3 = GridSearchCV(rf5,params_imb,scoring='f1')\n",
    "grid3.fit(X_train,y_train)\n",
    "grid3.best_params_"
   ]
  },
  {
   "cell_type": "code",
   "execution_count": 54,
   "id": "b3b58ccc",
   "metadata": {},
   "outputs": [
    {
     "data": {
      "text/plain": [
       "0.8416131275262411"
      ]
     },
     "execution_count": 54,
     "metadata": {},
     "output_type": "execute_result"
    }
   ],
   "source": [
    "grid3.best_score_"
   ]
  },
  {
   "cell_type": "code",
   "execution_count": 55,
   "id": "59760563",
   "metadata": {},
   "outputs": [
    {
     "name": "stdout",
     "output_type": "stream",
     "text": [
      "precision score:  0.7835497835497836\n",
      "recall score:  0.8701923076923077\n",
      "f1 score:  0.8246013667425968\n",
      "--------------------------------------------------\n",
      "The percentage of fully_paid predicted correctly:  78.35497835497836\n",
      "The percentage of not fully_paid predicted correctly:  36.78929765886288\n"
     ]
    }
   ],
   "source": [
    "print_scores(grid3.best_estimator_, X_test, y_test)"
   ]
  },
  {
   "cell_type": "code",
   "execution_count": 56,
   "id": "dd9f30ea",
   "metadata": {},
   "outputs": [
    {
     "data": {
      "text/plain": [
       "<sklearn.metrics._plot.confusion_matrix.ConfusionMatrixDisplay at 0x1f8a928b220>"
      ]
     },
     "execution_count": 56,
     "metadata": {},
     "output_type": "execute_result"
    },
    {
     "data": {
      "image/png": "[encoded data removed]",
      "text/plain": [
       "<Figure size 432x288 with 2 Axes>"
      ]
     },
     "metadata": {
      "needs_background": "light"
     },
     "output_type": "display_data"
    }
   ],
   "source": [
    "plot_confusion_matrix(grid3.best_estimator_,X_test,y_test)"
   ]
  },
  {
   "cell_type": "code",
   "execution_count": 57,
   "id": "67c0154c",
   "metadata": {},
   "outputs": [
    {
     "data": {
      "text/plain": [
       "<sklearn.metrics._plot.precision_recall_curve.PrecisionRecallDisplay at 0x1f8a93f46a0>"
      ]
     },
     "execution_count": 57,
     "metadata": {},
     "output_type": "execute_result"
    },
    {
     "data": {
      "image/png": "[encoded data removed]",
      "text/plain": [
       "<Figure size 432x288 with 1 Axes>"
      ]
     },
     "metadata": {
      "needs_background": "light"
     },
     "output_type": "display_data"
    }
   ],
   "source": [
    "plot_precision_recall_curve(grid3.best_estimator_ ,X_test, y_test)"
   ]
  }
 ],
 "metadata": {
  "kernelspec": {
   "display_name": "Python 3",
   "language": "python",
   "name": "python3"
  },
  "language_info": {
   "codemirror_mode": {
    "name": "ipython",
    "version": 3
   },
   "file_extension": ".py",
   "mimetype": "text/x-python",
   "name": "python",
   "nbconvert_exporter": "python",
   "pygments_lexer": "ipython3",
   "version": "3.9.5"
  }
 },
 "nbformat": 4,
 "nbformat_minor": 5
}
