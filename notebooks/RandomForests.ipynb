{
 "cells": [
  {
   "cell_type": "code",
   "execution_count": 20,
   "id": "394d14a8",
   "metadata": {},
   "outputs": [],
   "source": [
    "import numpy as np\n",
    "import pandas as pd\n",
    "import matplotlib.pyplot as plt\n",
    "from sklearn.ensemble import RandomForestClassifier\n",
    "from sklearn.model_selection import train_test_split, GridSearchCV, cross_validate\n",
    "from sklearn.preprocessing import LabelEncoder\n",
    "from sklearn.metrics import (precision_recall_fscore_support, plot_confusion_matrix, plot_precision_recall_curve,\n",
    "                             confusion_matrix,precision_recall_curve, ConfusionMatrixDisplay, PrecisionRecallDisplay)\n",
    "from imblearn.pipeline import Pipeline as imbPipeline\n",
    "from imblearn.under_sampling import RandomUnderSampler\n",
    "from imblearn.over_sampling import RandomOverSampler\n",
    "import seaborn as sns"
   ]
  },
  {
   "cell_type": "code",
   "execution_count": 2,
   "id": "9cb36d76",
   "metadata": {},
   "outputs": [],
   "source": [
    "df = pd.read_csv('../data/loan_data.csv')"
   ]
  },
  {
   "cell_type": "code",
   "execution_count": 3,
   "id": "8f3c67c3",
   "metadata": {},
   "outputs": [
    {
     "data": {
      "text/plain": [
       "Index(['credit_policy', 'purpose', 'int_rate', 'installment', 'log_annual_inc',\n",
       "       'dti', 'fico', 'days_with_cr_line', 'revol_bal', 'revol_util',\n",
       "       'inq_last_6mths', 'delinq_2yrs', 'pub_rec', 'not_fully_paid'],\n",
       "      dtype='object')"
      ]
     },
     "execution_count": 3,
     "metadata": {},
     "output_type": "execute_result"
    }
   ],
   "source": [
    "df.columns = [x.replace('.','_') for x in df.columns]\n",
    "df.columns"
   ]
  },
  {
   "cell_type": "code",
   "execution_count": 4,
   "id": "73a547c3",
   "metadata": {},
   "outputs": [],
   "source": [
    "df['fully_paid'] = 1 - df.not_fully_paid\n",
    "df.drop('not_fully_paid', axis=1, inplace=True)"
   ]
  },
  {
   "cell_type": "code",
   "execution_count": 5,
   "id": "81c40659",
   "metadata": {},
   "outputs": [],
   "source": [
    "def get_preds(classifier, X_test, y_test, threshold):\n",
    "    y_preds = classifier.predict_proba(X_test)\n",
    "    y_preds = y_preds[:,1]\n",
    "    y_preds = 1 * (y_preds > threshold)\n",
    "    return y_preds   "
   ]
  },
  {
   "cell_type": "code",
   "execution_count": 6,
   "id": "ba9d14af",
   "metadata": {},
   "outputs": [],
   "source": [
    "def find_threshold(estimator, X_train, y_train, scoring='f1'):\n",
    "    best_thresholds=[0]*5\n",
    "    scores = cross_validate(estimator, X_train, y_train, scoring = scoring, return_estimator=True)\n",
    "    for i in range(5):\n",
    "        estimator_i = scores['estimator'][i]\n",
    "        yhat = estimator_i.predict_proba(X_train)\n",
    "        yhat = yhat[:,1]\n",
    "        precision, recall, thresholds = precision_recall_curve(y_train,yhat)\n",
    "        fscores = 2*precision*recall/(precision+recall)\n",
    "        ix = np.argmax(fscores)\n",
    "        best_thresholds[i] = thresholds[ix]\n",
    "    return np.mean(best_thresholds)"
   ]
  },
  {
   "cell_type": "code",
   "execution_count": 7,
   "id": "b58f5cbc",
   "metadata": {},
   "outputs": [],
   "source": [
    "def print_accuracy_results(y_true, y_preds):\n",
    "    correct_classification = 1 - np.absolute(y_true - y_preds)\n",
    "    scoring_df = pd.DataFrame({'y_values': y_true, 'correct_classification': correct_classification})\n",
    "    zeros = scoring_df[scoring_df.y_values == 0]\n",
    "    ones = scoring_df[scoring_df.y_values == 1]\n",
    "    print(\"The percentage of fully_paid predicted correctly: \",100*ones.correct_classification.sum()/ones.shape[0])\n",
    "    print(\"The percentage of not fully_paid predicted correctly: \",100*zeros.correct_classification.sum()/zeros.shape[0])"
   ]
  },
  {
   "cell_type": "code",
   "execution_count": 8,
   "id": "af32d330",
   "metadata": {},
   "outputs": [],
   "source": [
    "def print_scores(classifier, X_test, y_test, threshold=None, beta=1.0):\n",
    "    if threshold is None:\n",
    "        y_preds = classifier.predict(X_test)\n",
    "    else:\n",
    "        y_preds = get_preds(classifier, X_test, y_test, threshold)\n",
    "        \n",
    "    scores = precision_recall_fscore_support(y_preds, y_test, beta=beta, average='binary')\n",
    "    print(\"precision score: \",scores[0])\n",
    "    print(\"recall score: \", scores[1])\n",
    "    print(\"f1 score: \", scores[2])\n",
    "    print('-'*50)\n",
    "    print_accuracy_results(y_test, y_preds)"
   ]
  },
  {
   "cell_type": "markdown",
   "id": "7bfabc2b",
   "metadata": {},
   "source": [
    "# Ordinal encoding the categorical"
   ]
  },
  {
   "cell_type": "code",
   "execution_count": 9,
   "id": "43a0b0b2",
   "metadata": {},
   "outputs": [],
   "source": [
    "X = df.drop('fully_paid', axis = 1)\n",
    "y = df.fully_paid"
   ]
  },
  {
   "cell_type": "code",
   "execution_count": 10,
   "id": "31ea7278",
   "metadata": {},
   "outputs": [],
   "source": [
    "le = LabelEncoder()"
   ]
  },
  {
   "cell_type": "code",
   "execution_count": 11,
   "id": "f287d892",
   "metadata": {},
   "outputs": [],
   "source": [
    "X['purpose'] = le.fit_transform(X.purpose.values)"
   ]
  },
  {
   "cell_type": "markdown",
   "id": "764e0470",
   "metadata": {},
   "source": [
    "# Splitting the data"
   ]
  },
  {
   "cell_type": "code",
   "execution_count": 12,
   "id": "a0820958",
   "metadata": {},
   "outputs": [],
   "source": [
    "X_train, X_test, y_train, y_test = train_test_split(X, y, random_state=675, test_size=0.2)"
   ]
  },
  {
   "cell_type": "markdown",
   "id": "affcdc6e",
   "metadata": {},
   "source": [
    "# Base Model"
   ]
  },
  {
   "cell_type": "code",
   "execution_count": 13,
   "id": "00716938",
   "metadata": {},
   "outputs": [],
   "source": [
    "rf1 = RandomForestClassifier()"
   ]
  },
  {
   "cell_type": "code",
   "execution_count": 14,
   "id": "177792b9",
   "metadata": {},
   "outputs": [
    {
     "data": {
      "text/plain": [
       "RandomForestClassifier()"
      ]
     },
     "execution_count": 14,
     "metadata": {},
     "output_type": "execute_result"
    }
   ],
   "source": [
    "rf1.fit(X_train,y_train)"
   ]
  },
  {
   "cell_type": "code",
   "execution_count": 15,
   "id": "b6a84a17",
   "metadata": {},
   "outputs": [
    {
     "name": "stdout",
     "output_type": "stream",
     "text": [
      "precision score:  0.9876314162028448\n",
      "recall score:  0.8467656415694592\n",
      "f1 score:  0.911789894376249\n",
      "--------------------------------------------------\n",
      "The percentage of fully_paid predicted correctly:  98.76314162028447\n",
      "The percentage of not fully_paid predicted correctly:  3.3444816053511706\n"
     ]
    }
   ],
   "source": [
    "print_scores(rf1, X_test, y_test)"
   ]
  },
  {
   "cell_type": "code",
   "execution_count": 16,
   "id": "8742ffc8",
   "metadata": {},
   "outputs": [
    {
     "data": {
      "text/plain": [
       "<sklearn.metrics._plot.confusion_matrix.ConfusionMatrixDisplay at 0x1821a5a3760>"
      ]
     },
     "execution_count": 16,
     "metadata": {},
     "output_type": "execute_result"
    },
    {
     "data": {
      "image/png": "[encoded data removed]",
      "text/plain": [
       "<Figure size 432x288 with 2 Axes>"
      ]
     },
     "metadata": {
      "needs_background": "light"
     },
     "output_type": "display_data"
    }
   ],
   "source": [
    "plot_confusion_matrix(rf1 ,X_test, y_test)"
   ]
  },
  {
   "cell_type": "code",
   "execution_count": 17,
   "id": "40cd748b",
   "metadata": {},
   "outputs": [
    {
     "data": {
      "text/plain": [
       "<sklearn.metrics._plot.precision_recall_curve.PrecisionRecallDisplay at 0x1821a5850d0>"
      ]
     },
     "execution_count": 17,
     "metadata": {},
     "output_type": "execute_result"
    },
    {
     "data": {
      "image/png": "[encoded data removed]",
      "text/plain": [
       "<Figure size 432x288 with 1 Axes>"
      ]
     },
     "metadata": {
      "needs_background": "light"
     },
     "output_type": "display_data"
    }
   ],
   "source": [
    "plot_precision_recall_curve(rf1 ,X_test, y_test)"
   ]
  },
  {
   "cell_type": "code",
   "execution_count": 18,
   "id": "5089a179",
   "metadata": {},
   "outputs": [
    {
     "data": {
      "text/plain": [
       "array([0.0175883 , 0.04196951, 0.10527178, 0.11431915, 0.11094993,\n",
       "       0.11386797, 0.07757964, 0.11402157, 0.11316567, 0.11389253,\n",
       "       0.05347124, 0.01384063, 0.01006207])"
      ]
     },
     "execution_count": 18,
     "metadata": {},
     "output_type": "execute_result"
    }
   ],
   "source": [
    "rf1.feature_importances_"
   ]
  },
  {
   "cell_type": "code",
   "execution_count": 46,
   "id": "4bc7f82e",
   "metadata": {},
   "outputs": [
    {
     "data": {
      "text/plain": [
       "<AxesSubplot:>"
      ]
     },
     "execution_count": 46,
     "metadata": {},
     "output_type": "execute_result"
    },
    {
     "data": {
      "image/png": "[encoded data removed]",
      "text/plain": [
       "<Figure size 1080x432 with 1 Axes>"
      ]
     },
     "metadata": {
      "needs_background": "light"
     },
     "output_type": "display_data"
    }
   ],
   "source": [
    "f = plt.figure(figsize=(15,6))\n",
    "sns.barplot(x=X.columns, y=rf1.feature_importances_)"
   ]
  },
  {
   "cell_type": "markdown",
   "id": "da336479",
   "metadata": {},
   "source": [
    "# Using balanced weights"
   ]
  },
  {
   "cell_type": "code",
   "execution_count": 18,
   "id": "a2235263",
   "metadata": {},
   "outputs": [],
   "source": [
    "rf2 = RandomForestClassifier(class_weight='balanced')"
   ]
  },
  {
   "cell_type": "code",
   "execution_count": 19,
   "id": "06a95003",
   "metadata": {},
   "outputs": [
    {
     "data": {
      "text/plain": [
       "RandomForestClassifier(class_weight='balanced')"
      ]
     },
     "execution_count": 19,
     "metadata": {},
     "output_type": "execute_result"
    }
   ],
   "source": [
    "rf2.fit(X_train,y_train)"
   ]
  },
  {
   "cell_type": "code",
   "execution_count": 20,
   "id": "b3fca7be",
   "metadata": {},
   "outputs": [
    {
     "name": "stdout",
     "output_type": "stream",
     "text": [
      "precision score:  0.9931972789115646\n",
      "recall score:  0.8439306358381503\n",
      "f1 score:  0.9125000000000001\n",
      "--------------------------------------------------\n",
      "The percentage of fully_paid predicted correctly:  99.31972789115646\n",
      "The percentage of not fully_paid predicted correctly:  0.6688963210702341\n"
     ]
    }
   ],
   "source": [
    "print_scores(rf2, X_test, y_test)"
   ]
  },
  {
   "cell_type": "code",
   "execution_count": 21,
   "id": "2fb9de10",
   "metadata": {},
   "outputs": [
    {
     "data": {
      "text/plain": [
       "<sklearn.metrics._plot.confusion_matrix.ConfusionMatrixDisplay at 0x24a261dbaf0>"
      ]
     },
     "execution_count": 21,
     "metadata": {},
     "output_type": "execute_result"
    },
    {
     "data": {
      "image/png": "[encoded data removed]",
      "text/plain": [
       "<Figure size 432x288 with 2 Axes>"
      ]
     },
     "metadata": {
      "needs_background": "light"
     },
     "output_type": "display_data"
    }
   ],
   "source": [
    "plot_confusion_matrix(rf2 ,X_test, y_test)"
   ]
  },
  {
   "cell_type": "code",
   "execution_count": 22,
   "id": "06c387dc",
   "metadata": {},
   "outputs": [
    {
     "data": {
      "text/plain": [
       "<sklearn.metrics._plot.precision_recall_curve.PrecisionRecallDisplay at 0x24a26113a60>"
      ]
     },
     "execution_count": 22,
     "metadata": {},
     "output_type": "execute_result"
    },
    {
     "data": {
      "image/png": "[encoded data removed]",
      "text/plain": [
       "<Figure size 432x288 with 1 Axes>"
      ]
     },
     "metadata": {
      "needs_background": "light"
     },
     "output_type": "display_data"
    }
   ],
   "source": [
    "plot_precision_recall_curve(rf2 ,X_test, y_test)"
   ]
  },
  {
   "cell_type": "markdown",
   "id": "1bed6911",
   "metadata": {},
   "source": [
    "Using class weights, balanced made the random forest worse"
   ]
  },
  {
   "cell_type": "markdown",
   "id": "bf073870",
   "metadata": {},
   "source": [
    "# Improving the balanced weights model with hyperparameter tuning"
   ]
  },
  {
   "cell_type": "code",
   "execution_count": 25,
   "id": "ab7f1dd1",
   "metadata": {},
   "outputs": [],
   "source": [
    "rf3 = RandomForestClassifier()\n",
    "params = {\n",
    "    'criterion':['entropy','gini'],\n",
    "    'max_depth':[3,4,7],\n",
    "    'class_weight':['balanced','balanced_subsample']\n",
    "}"
   ]
  },
  {
   "cell_type": "code",
   "execution_count": 26,
   "id": "2bac5254",
   "metadata": {},
   "outputs": [],
   "source": [
    "grid = GridSearchCV(rf3,params,scoring='f1')"
   ]
  },
  {
   "cell_type": "code",
   "execution_count": 27,
   "id": "cb66ca90",
   "metadata": {},
   "outputs": [
    {
     "data": {
      "text/plain": [
       "GridSearchCV(estimator=RandomForestClassifier(),\n",
       "             param_grid={'class_weight': ['balanced', 'balanced_subsample'],\n",
       "                         'criterion': ['entropy', 'gini'],\n",
       "                         'max_depth': [3, 4, 7]},\n",
       "             scoring='f1')"
      ]
     },
     "execution_count": 27,
     "metadata": {},
     "output_type": "execute_result"
    }
   ],
   "source": [
    "grid.fit(X_train,y_train)"
   ]
  },
  {
   "cell_type": "code",
   "execution_count": 28,
   "id": "e71f4163",
   "metadata": {},
   "outputs": [
    {
     "data": {
      "text/plain": [
       "0.8130505134416213"
      ]
     },
     "execution_count": 28,
     "metadata": {},
     "output_type": "execute_result"
    }
   ],
   "source": [
    "grid.best_score_"
   ]
  },
  {
   "cell_type": "code",
   "execution_count": 29,
   "id": "5dc406ec",
   "metadata": {},
   "outputs": [
    {
     "data": {
      "text/plain": [
       "{'class_weight': 'balanced_subsample', 'criterion': 'gini', 'max_depth': 7}"
      ]
     },
     "execution_count": 29,
     "metadata": {},
     "output_type": "execute_result"
    }
   ],
   "source": [
    "grid.best_params_"
   ]
  },
  {
   "cell_type": "code",
   "execution_count": 30,
   "id": "8a18afc2",
   "metadata": {},
   "outputs": [
    {
     "name": "stdout",
     "output_type": "stream",
     "text": [
      "precision score:  0.7278911564625851\n",
      "recall score:  0.8712065136935603\n",
      "f1 score:  0.7931266846361187\n",
      "--------------------------------------------------\n",
      "The percentage of fully_paid predicted correctly:  72.78911564625851\n",
      "The percentage of not fully_paid predicted correctly:  41.80602006688963\n"
     ]
    }
   ],
   "source": [
    "print_scores(grid.best_estimator_, X_test, y_test)"
   ]
  },
  {
   "cell_type": "code",
   "execution_count": 31,
   "id": "61cf814f",
   "metadata": {},
   "outputs": [
    {
     "data": {
      "text/plain": [
       "<sklearn.metrics._plot.confusion_matrix.ConfusionMatrixDisplay at 0x1821dd49dc0>"
      ]
     },
     "execution_count": 31,
     "metadata": {},
     "output_type": "execute_result"
    },
    {
     "data": {
      "image/png": "[encoded data removed]",
      "text/plain": [
       "<Figure size 432x288 with 2 Axes>"
      ]
     },
     "metadata": {
      "needs_background": "light"
     },
     "output_type": "display_data"
    }
   ],
   "source": [
    "plot_confusion_matrix(grid.best_estimator_ ,X_test, y_test)"
   ]
  },
  {
   "cell_type": "code",
   "execution_count": 47,
   "id": "187959f8",
   "metadata": {},
   "outputs": [
    {
     "data": {
      "text/plain": [
       "<sklearn.metrics._plot.precision_recall_curve.PrecisionRecallDisplay at 0x1821ef0d970>"
      ]
     },
     "execution_count": 47,
     "metadata": {},
     "output_type": "execute_result"
    },
    {
     "data": {
      "image/png": "[encoded data removed]",
      "text/plain": [
       "<Figure size 432x288 with 1 Axes>"
      ]
     },
     "metadata": {
      "needs_background": "light"
     },
     "output_type": "display_data"
    }
   ],
   "source": [
    "plot_precision_recall_curve(grid.best_estimator_ ,X_test, y_test)"
   ]
  },
  {
   "cell_type": "markdown",
   "id": "3f124c7e",
   "metadata": {},
   "source": [
    "# Improving the base model by moving the treshold"
   ]
  },
  {
   "cell_type": "code",
   "execution_count": 30,
   "id": "e9708581",
   "metadata": {},
   "outputs": [
    {
     "data": {
      "text/plain": [
       "0.49800000000000005"
      ]
     },
     "execution_count": 30,
     "metadata": {},
     "output_type": "execute_result"
    }
   ],
   "source": [
    "rf_t = find_threshold(rf1, X_train, y_train)\n",
    "rf_t"
   ]
  },
  {
   "cell_type": "code",
   "execution_count": 31,
   "id": "e77d2a09",
   "metadata": {},
   "outputs": [
    {
     "name": "stdout",
     "output_type": "stream",
     "text": [
      "precision score:  0.782312925170068\n",
      "recall score:  0.8712121212121212\n",
      "f1 score:  0.8243727598566308\n",
      "--------------------------------------------------\n",
      "The percentage of fully_paid predicted correctly:  78.2312925170068\n",
      "The percentage of not fully_paid predicted correctly:  37.458193979933114\n"
     ]
    }
   ],
   "source": [
    "print_scores(rf1, X_test, y_test, threshold=0.75)"
   ]
  },
  {
   "cell_type": "code",
   "execution_count": 35,
   "id": "5e0d44fc",
   "metadata": {},
   "outputs": [
    {
     "data": {
      "text/plain": [
       "<sklearn.metrics._plot.confusion_matrix.ConfusionMatrixDisplay at 0x24a293833d0>"
      ]
     },
     "execution_count": 35,
     "metadata": {},
     "output_type": "execute_result"
    },
    {
     "data": {
      "image/png": "[encoded data removed]",
      "text/plain": [
       "<Figure size 432x288 with 2 Axes>"
      ]
     },
     "metadata": {
      "needs_background": "light"
     },
     "output_type": "display_data"
    }
   ],
   "source": [
    "y_preds = get_preds(rf1, X_test, y_test, threshold=0.75)\n",
    "rf1_cm = confusion_matrix(y_test, y_preds)\n",
    "cm_disp = ConfusionMatrixDisplay(rf1_cm, display_labels=rf1.classes_)\n",
    "cm_disp.plot()"
   ]
  },
  {
   "cell_type": "code",
   "execution_count": 36,
   "id": "0d79728a",
   "metadata": {},
   "outputs": [
    {
     "data": {
      "text/plain": [
       "<sklearn.metrics._plot.precision_recall_curve.PrecisionRecallDisplay at 0x24a29383be0>"
      ]
     },
     "execution_count": 36,
     "metadata": {},
     "output_type": "execute_result"
    },
    {
     "data": {
      "image/png": "[encoded data removed]",
      "text/plain": [
       "<Figure size 432x288 with 1 Axes>"
      ]
     },
     "metadata": {
      "needs_background": "light"
     },
     "output_type": "display_data"
    }
   ],
   "source": [
    "precision, recall, _ = precision_recall_curve(y_test, y_preds)\n",
    "pr_disp = PrecisionRecallDisplay(precision=precision, recall=recall)\n",
    "pr_disp.plot()"
   ]
  },
  {
   "cell_type": "markdown",
   "id": "a4f4f857",
   "metadata": {},
   "source": [
    "# Improving the base model with undersampling"
   ]
  },
  {
   "cell_type": "code",
   "execution_count": 32,
   "id": "07c468ae",
   "metadata": {},
   "outputs": [],
   "source": [
    "rf4 = imbPipeline(steps =[\n",
    "    ('sampler',RandomUnderSampler(random_state=625)),\n",
    "    ('rf_classifier', RandomForestClassifier())])"
   ]
  },
  {
   "cell_type": "code",
   "execution_count": 33,
   "id": "50ea1aef",
   "metadata": {},
   "outputs": [],
   "source": [
    "params_imb = {\n",
    "    'rf_classifier__criterion':['entropy','gini'],\n",
    "    'rf_classifier__max_depth':[3,4,7,10],\n",
    "    'rf_classifier__class_weight':['balanced','balanced_subsample',None]\n",
    "}"
   ]
  },
  {
   "cell_type": "code",
   "execution_count": 34,
   "id": "4325be91",
   "metadata": {},
   "outputs": [
    {
     "data": {
      "text/plain": [
       "{'rf_classifier__class_weight': None,\n",
       " 'rf_classifier__criterion': 'entropy',\n",
       " 'rf_classifier__max_depth': 3}"
      ]
     },
     "execution_count": 34,
     "metadata": {},
     "output_type": "execute_result"
    }
   ],
   "source": [
    "grid2 = GridSearchCV(rf4,params_imb,scoring='f1')\n",
    "grid2.fit(X_train,y_train)\n",
    "grid2.best_params_"
   ]
  },
  {
   "cell_type": "code",
   "execution_count": 35,
   "id": "e393b655",
   "metadata": {},
   "outputs": [
    {
     "data": {
      "text/plain": [
       "0.7593600498877361"
      ]
     },
     "execution_count": 35,
     "metadata": {},
     "output_type": "execute_result"
    }
   ],
   "source": [
    "grid2.best_score_"
   ]
  },
  {
   "cell_type": "code",
   "execution_count": 36,
   "id": "f9db66e1",
   "metadata": {},
   "outputs": [
    {
     "name": "stdout",
     "output_type": "stream",
     "text": [
      "precision score:  0.6079158936301794\n",
      "recall score:  0.8871841155234657\n",
      "f1 score:  0.7214678899082568\n",
      "--------------------------------------------------\n",
      "The percentage of fully_paid predicted correctly:  60.791589363017934\n",
      "The percentage of not fully_paid predicted correctly:  58.19397993311037\n"
     ]
    }
   ],
   "source": [
    "print_scores(grid2.best_estimator_, X_test, y_test)"
   ]
  },
  {
   "cell_type": "code",
   "execution_count": 37,
   "id": "fd83e741",
   "metadata": {},
   "outputs": [
    {
     "data": {
      "text/plain": [
       "<sklearn.metrics._plot.confusion_matrix.ConfusionMatrixDisplay at 0x1821dd02dc0>"
      ]
     },
     "execution_count": 37,
     "metadata": {},
     "output_type": "execute_result"
    },
    {
     "data": {
      "image/png": "[encoded data removed]",
      "text/plain": [
       "<Figure size 432x288 with 2 Axes>"
      ]
     },
     "metadata": {
      "needs_background": "light"
     },
     "output_type": "display_data"
    }
   ],
   "source": [
    "plot_confusion_matrix(grid2.best_estimator_, X_test, y_test)"
   ]
  },
  {
   "cell_type": "code",
   "execution_count": 38,
   "id": "9998d999",
   "metadata": {},
   "outputs": [
    {
     "data": {
      "text/plain": [
       "<sklearn.metrics._plot.precision_recall_curve.PrecisionRecallDisplay at 0x1821ddf4460>"
      ]
     },
     "execution_count": 38,
     "metadata": {},
     "output_type": "execute_result"
    },
    {
     "data": {
      "image/png": "[encoded data removed]",
      "text/plain": [
       "<Figure size 432x288 with 1 Axes>"
      ]
     },
     "metadata": {
      "needs_background": "light"
     },
     "output_type": "display_data"
    }
   ],
   "source": [
    "plot_precision_recall_curve(grid2.best_estimator_ ,X_test, y_test)"
   ]
  },
  {
   "cell_type": "markdown",
   "id": "2cd58473",
   "metadata": {},
   "source": [
    "This isn't any better than using the balanced class weights and hyperparameter tuning"
   ]
  },
  {
   "cell_type": "markdown",
   "id": "0d855ed1",
   "metadata": {},
   "source": [
    "# Improving the base model with random oversampling"
   ]
  },
  {
   "cell_type": "code",
   "execution_count": 39,
   "id": "f823eac7",
   "metadata": {},
   "outputs": [],
   "source": [
    "rf5 = imbPipeline(steps =[\n",
    "    ('sampler',RandomOverSampler(random_state=625)),\n",
    "    ('rf_classifier', RandomForestClassifier())])"
   ]
  },
  {
   "cell_type": "code",
   "execution_count": 41,
   "id": "94e37c98",
   "metadata": {},
   "outputs": [
    {
     "data": {
      "text/plain": [
       "{'rf_classifier__class_weight': 'balanced_subsample',\n",
       " 'rf_classifier__criterion': 'gini',\n",
       " 'rf_classifier__max_depth': 10}"
      ]
     },
     "execution_count": 41,
     "metadata": {},
     "output_type": "execute_result"
    }
   ],
   "source": [
    "grid3 = GridSearchCV(rf5,params_imb,scoring='f1')\n",
    "grid3.fit(X_train,y_train)\n",
    "grid3.best_params_"
   ]
  },
  {
   "cell_type": "code",
   "execution_count": 42,
   "id": "b3b58ccc",
   "metadata": {},
   "outputs": [
    {
     "data": {
      "text/plain": [
       "0.8408346165942966"
      ]
     },
     "execution_count": 42,
     "metadata": {},
     "output_type": "execute_result"
    }
   ],
   "source": [
    "grid3.best_score_"
   ]
  },
  {
   "cell_type": "code",
   "execution_count": 43,
   "id": "59760563",
   "metadata": {},
   "outputs": [
    {
     "name": "stdout",
     "output_type": "stream",
     "text": [
      "precision score:  0.7674706246134818\n",
      "recall score:  0.8642061281337048\n",
      "f1 score:  0.8129708483458894\n",
      "--------------------------------------------------\n",
      "The percentage of fully_paid predicted correctly:  76.74706246134818\n",
      "The percentage of not fully_paid predicted correctly:  34.78260869565217\n"
     ]
    }
   ],
   "source": [
    "print_scores(grid3.best_estimator_, X_test, y_test)"
   ]
  },
  {
   "cell_type": "code",
   "execution_count": 44,
   "id": "dd9f30ea",
   "metadata": {},
   "outputs": [
    {
     "data": {
      "text/plain": [
       "<sklearn.metrics._plot.confusion_matrix.ConfusionMatrixDisplay at 0x1821eef46a0>"
      ]
     },
     "execution_count": 44,
     "metadata": {},
     "output_type": "execute_result"
    },
    {
     "data": {
      "image/png": "[encoded data removed]",
      "text/plain": [
       "<Figure size 432x288 with 2 Axes>"
      ]
     },
     "metadata": {
      "needs_background": "light"
     },
     "output_type": "display_data"
    }
   ],
   "source": [
    "plot_confusion_matrix(grid3.best_estimator_,X_test,y_test)"
   ]
  },
  {
   "cell_type": "code",
   "execution_count": 45,
   "id": "67c0154c",
   "metadata": {},
   "outputs": [
    {
     "data": {
      "text/plain": [
       "<sklearn.metrics._plot.precision_recall_curve.PrecisionRecallDisplay at 0x1821f0053a0>"
      ]
     },
     "execution_count": 45,
     "metadata": {},
     "output_type": "execute_result"
    },
    {
     "data": {
      "image/png": "[encoded data removed]",
      "text/plain": [
       "<Figure size 432x288 with 1 Axes>"
      ]
     },
     "metadata": {
      "needs_background": "light"
     },
     "output_type": "display_data"
    }
   ],
   "source": [
    "plot_precision_recall_curve(grid3.best_estimator_ ,X_test, y_test)"
   ]
  },
  {
   "cell_type": "code",
   "execution_count": null,
   "id": "3c0fb5d6",
   "metadata": {},
   "outputs": [],
   "source": []
  }
 ],
 "metadata": {
  "kernelspec": {
   "display_name": "Python 3",
   "language": "python",
   "name": "python3"
  },
  "language_info": {
   "codemirror_mode": {
    "name": "ipython",
    "version": 3
   },
   "file_extension": ".py",
   "mimetype": "text/x-python",
   "name": "python",
   "nbconvert_exporter": "python",
   "pygments_lexer": "ipython3",
   "version": "3.9.5"
  }
 },
 "nbformat": 4,
 "nbformat_minor": 5
}
