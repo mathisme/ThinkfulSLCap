{
 "cells": [
  {
   "cell_type": "code",
   "execution_count": 1,
   "id": "ed09bc19",
   "metadata": {},
   "outputs": [],
   "source": [
    "import numpy as np\n",
    "import pandas as pd\n",
    "import matplotlib.pyplot as plt\n",
    "from sklearn.ensemble import GradientBoostingClassifier\n",
    "from sklearn.model_selection import train_test_split, GridSearchCV\n",
    "from sklearn.pipeline import Pipeline\n",
    "from sklearn.preprocessing import LabelEncoder, OneHotEncoder\n",
    "from sklearn.compose import ColumnTransformer\n",
    "from sklearn.metrics import precision_recall_fscore_support, plot_confusion_matrix, plot_precision_recall_curve"
   ]
  },
  {
   "cell_type": "code",
   "execution_count": 2,
   "id": "1398331a",
   "metadata": {},
   "outputs": [],
   "source": [
    "df = pd.read_csv('../data/loan_data.csv')"
   ]
  },
  {
   "cell_type": "code",
   "execution_count": 3,
   "id": "630f857a",
   "metadata": {},
   "outputs": [
    {
     "data": {
      "text/plain": [
       "Index(['credit_policy', 'purpose', 'int_rate', 'installment', 'log_annual_inc',\n",
       "       'dti', 'fico', 'days_with_cr_line', 'revol_bal', 'revol_util',\n",
       "       'inq_last_6mths', 'delinq_2yrs', 'pub_rec', 'not_fully_paid'],\n",
       "      dtype='object')"
      ]
     },
     "execution_count": 3,
     "metadata": {},
     "output_type": "execute_result"
    }
   ],
   "source": [
    "df.columns = [x.replace('.','_') for x in df.columns]\n",
    "df.columns"
   ]
  },
  {
   "cell_type": "code",
   "execution_count": 4,
   "id": "2f434fee",
   "metadata": {},
   "outputs": [],
   "source": [
    "df['fully_paid'] = 1 - df.not_fully_paid\n",
    "df.drop('not_fully_paid', axis=1, inplace=True)"
   ]
  },
  {
   "cell_type": "markdown",
   "id": "0c28a086",
   "metadata": {},
   "source": [
    "# Splitting the data"
   ]
  },
  {
   "cell_type": "code",
   "execution_count": 5,
   "id": "1f20b22f",
   "metadata": {},
   "outputs": [],
   "source": [
    "X = df.drop('fully_paid', axis = 1)\n",
    "y = df.fully_paid\n",
    "X_train, X_test, y_train, y_test = train_test_split(X, y, random_state=675, test_size=0.2)"
   ]
  },
  {
   "cell_type": "markdown",
   "id": "62082f56",
   "metadata": {},
   "source": [
    "# Base Model"
   ]
  },
  {
   "cell_type": "code",
   "execution_count": 6,
   "id": "93c9b5e5",
   "metadata": {},
   "outputs": [],
   "source": [
    "cat_features = df.select_dtypes('object').columns\n",
    "cat_transformer = Pipeline(steps=[('label',OneHotEncoder(handle_unknown='error'))])\n",
    "preprocessor = ColumnTransformer(transformers=[\n",
    "    ('cat',cat_transformer,cat_features)])\n",
    "\n",
    "gb1 = Pipeline(steps =[\n",
    "    ('preprocessor',preprocessor),\n",
    "    ('rf_classifier', GradientBoostingClassifier())])"
   ]
  },
  {
   "cell_type": "code",
   "execution_count": 7,
   "id": "480c321f",
   "metadata": {},
   "outputs": [
    {
     "data": {
      "text/plain": [
       "Pipeline(steps=[('preprocessor',\n",
       "                 ColumnTransformer(transformers=[('cat',\n",
       "                                                  Pipeline(steps=[('label',\n",
       "                                                                   OneHotEncoder())]),\n",
       "                                                  Index(['purpose'], dtype='object'))])),\n",
       "                ('rf_classifier', GradientBoostingClassifier())])"
      ]
     },
     "execution_count": 7,
     "metadata": {},
     "output_type": "execute_result"
    }
   ],
   "source": [
    "gb1.fit(X_train,y_train)"
   ]
  },
  {
   "cell_type": "code",
   "execution_count": 8,
   "id": "d4341219",
   "metadata": {},
   "outputs": [
    {
     "name": "stdout",
     "output_type": "stream",
     "text": [
      "precision score:  1.0\n",
      "recall score for:  0.8389454450535109\n",
      "f1 score for:  0.9124201561391059\n"
     ]
    }
   ],
   "source": [
    "training_scores = precision_recall_fscore_support(gb1.predict(X_train), y_train, average='binary')\n",
    "print(\"precision score: \",training_scores[0])\n",
    "print(\"recall score for: \", training_scores[1])\n",
    "print(\"f1 score for: \", training_scores[2])"
   ]
  },
  {
   "cell_type": "code",
   "execution_count": 9,
   "id": "d1b26b03",
   "metadata": {},
   "outputs": [
    {
     "name": "stdout",
     "output_type": "stream",
     "text": [
      "precision score:  1.0\n",
      "recall score for:  0.843945720250522\n",
      "f1 score for:  0.9153693744692896\n"
     ]
    }
   ],
   "source": [
    "y_preds = gb1.predict(X_test)\n",
    "scores = precision_recall_fscore_support(y_preds, y_test, average='binary')\n",
    "print(\"precision score: \",scores[0])\n",
    "print(\"recall score for: \", scores[1])\n",
    "print(\"f1 score for: \", scores[2])"
   ]
  },
  {
   "cell_type": "code",
   "execution_count": 10,
   "id": "b87e0c58",
   "metadata": {},
   "outputs": [
    {
     "data": {
      "text/plain": [
       "<sklearn.metrics._plot.confusion_matrix.ConfusionMatrixDisplay at 0x1beb83a9730>"
      ]
     },
     "execution_count": 10,
     "metadata": {},
     "output_type": "execute_result"
    },
    {
     "data": {
      "image/png": "[encoded data removed]",
      "text/plain": [
       "<Figure size 432x288 with 2 Axes>"
      ]
     },
     "metadata": {
      "needs_background": "light"
     },
     "output_type": "display_data"
    }
   ],
   "source": [
    "plot_confusion_matrix(gb1,X_test,y_test)"
   ]
  },
  {
   "cell_type": "markdown",
   "id": "340c2420",
   "metadata": {},
   "source": [
    "Again this doesn't work because of the imbalance.  Will have to try with "
   ]
  }
 ],
 "metadata": {
  "kernelspec": {
   "display_name": "Python 3",
   "language": "python",
   "name": "python3"
  },
  "language_info": {
   "codemirror_mode": {
    "name": "ipython",
    "version": 3
   },
   "file_extension": ".py",
   "mimetype": "text/x-python",
   "name": "python",
   "nbconvert_exporter": "python",
   "pygments_lexer": "ipython3",
   "version": "3.9.5"
  }
 },
 "nbformat": 4,
 "nbformat_minor": 5
}
